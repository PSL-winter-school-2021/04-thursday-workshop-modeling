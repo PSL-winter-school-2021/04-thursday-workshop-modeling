{
 "cells": [
  {
   "cell_type": "markdown",
   "metadata": {},
   "source": [
    "# Tyssue\n",
    "\n",
    "\n",
    "The Tyssue python library allows to model mechanical behavior of 2D, apical 3D or full 3D epithelia.\n",
    "\n",
    "\n",
    "![dimension](illus/dimension.png)"
   ]
  },
  {
   "cell_type": "markdown",
   "metadata": {},
   "source": [
    "## Generate 2D epithelium\n",
    "\n",
    "\n",
    "For this, we use a **Voronoï tessalation** of the cell centers.\n",
    "\n",
    "\n",
    "![tessalation gif](illus/tessalation.gif)\n",
    "\n"
   ]
  },
  {
   "cell_type": "code",
   "execution_count": 18,
   "metadata": {},
   "outputs": [],
   "source": [
    "%matplotlib inline\n",
    "\n",
    "# Core object\n",
    "from tyssue import Sheet\n",
    "# Simple 2D geometry\n",
    "from tyssue import PlanarGeometry as geom\n",
    "# Visualisation\n",
    "from tyssue.draw import sheet_view\n",
    "\n",
    "sheet = Sheet.planar_sheet_2d(\n",
    "    'basic2D', # a name or identifier for this sheet\n",
    "    nx=6, # approximate number of cells on the x axis\n",
    "    ny=7, # approximate number of cells along the y axis\n",
    "    distx=1, # distance between 2 cells along x\n",
    "    disty=1, # distance between 2 cells along y\n",
    "    noise=0. # some position noise\n",
    ")\n",
    "geom.update_all(sheet)\n",
    "\n",
    "# Give the tissue a nice hear cut ;)\n",
    "sheet.sanitize(trim_borders=True, order_edges=True)\n",
    "geom.update_all(sheet)"
   ]
  },
  {
   "cell_type": "markdown",
   "metadata": {},
   "source": [
    "> Change the above parameters to see what happens"
   ]
  },
  {
   "cell_type": "code",
   "execution_count": 19,
   "metadata": {},
   "outputs": [
    {
     "data": {
      "image/png": "[encoded data removed]",
      "text/plain": [
       "<Figure size 576x576 with 1 Axes>"
      ]
     },
     "metadata": {
      "needs_background": "light"
     },
     "output_type": "display_data"
    }
   ],
   "source": [
    "# Visualisation of the tissue\n",
    "fig, ax = sheet_view(sheet, mode=\"2D\")\n",
    "fig.set_size_inches(8, 8)"
   ]
  },
  {
   "cell_type": "markdown",
   "metadata": {},
   "source": [
    "# Data structure\n",
    "\n",
    "\n",
    "The tyssue library defines tissue as a meshes. A vertex model defines a tissue as an assembly of vertices and edges, which can form polygonal face (in 2D) or polyhedron (in 3D). \n",
    "\n",
    "![vertex](illus/vertexmodel.png)\n",
    "\n",
    "The data associated with the mesh displayed above, i.e. the points positions, the connectivity information, etc. is stored in pandas [`DataFrame`](https://pandas.pydata.org/docs/reference/api/pandas.DataFrame.html#pandas.DataFrame) objects, hold together in the `datasets` dictionnary.\n",
    "\n",
    "Depending on the geometry, the following dataframes are populated:\n",
    "\n",
    "- `datasets[\"edge\"]` or `sheet.edge_df`: The edge related dataframe contains\n",
    "\n",
    "    - the connectivity information: source and target vertices, associated face and (for thick tissues) the associated cell body.\n",
    "    - geometry data associated with the edge, such as its length\n",
    "    - any suplemental data, such as a color or a dynamical parameter (an elasticity for example)\n",
    "    \n",
    "- `datasets[\"vert\"]` or `sheet.vert_df`: The vertices related dataframe. In the apical junction mesh above, those are the vertices at the cells junctions. It usually holds the coordinates of the points, and geometry or dynamical data.\n",
    "\n",
    "- `datasets[\"face\"]` or `sheet.face_df`: The faces related dataframe. For a thin, 2D tissue, this corresponds to a cell of the epithelium, delimited by its edges. In thick, 3D models, one cell has several faces (the apical, sagittal and basal ones for a 3D monolayer, for example).\n",
    "\n",
    "\n",
    "- `datasets[\"cell\"]` or `sheet.cell_df`: The cells related dataframe, only for 3D, thick, epithelium. Each cell have several faces.\n",
    "\n",
    "## We use _half-edges_\n",
    "\n",
    "Between two faces, an edge (a junction) is described by two entries in `sheet.edge_df`, one for each face. This simplifies some computations and algorithms, and allows to address each side of the junction separately.\n",
    "\n",
    "![Half edges](illus/double_edges.svg)"
   ]
  },
  {
   "cell_type": "code",
   "execution_count": 20,
   "metadata": {},
   "outputs": [
    {
     "data": {
      "text/html": [
       "<div>\n",
       "<style scoped>\n",
       "    .dataframe tbody tr th:only-of-type {\n",
       "        vertical-align: middle;\n",
       "    }\n",
       "\n",
       "    .dataframe tbody tr th {\n",
       "        vertical-align: top;\n",
       "    }\n",
       "\n",
       "    .dataframe thead th {\n",
       "        text-align: right;\n",
       "    }\n",
       "</style>\n",
       "<table border=\"1\" class=\"dataframe\">\n",
       "  <thead>\n",
       "    <tr style=\"text-align: right;\">\n",
       "      <th></th>\n",
       "      <th>y</th>\n",
       "      <th>is_alive</th>\n",
       "      <th>perimeter</th>\n",
       "      <th>area</th>\n",
       "      <th>x</th>\n",
       "      <th>num_sides</th>\n",
       "      <th>id</th>\n",
       "    </tr>\n",
       "    <tr>\n",
       "      <th>face</th>\n",
       "      <th></th>\n",
       "      <th></th>\n",
       "      <th></th>\n",
       "      <th></th>\n",
       "      <th></th>\n",
       "      <th></th>\n",
       "      <th></th>\n",
       "    </tr>\n",
       "  </thead>\n",
       "  <tbody>\n",
       "    <tr>\n",
       "      <th>0</th>\n",
       "      <td>1.250000</td>\n",
       "      <td>1</td>\n",
       "      <td>3.118034</td>\n",
       "      <td>0.5000</td>\n",
       "      <td>1.125000</td>\n",
       "      <td>4</td>\n",
       "      <td>0</td>\n",
       "    </tr>\n",
       "    <tr>\n",
       "      <th>1</th>\n",
       "      <td>1.125000</td>\n",
       "      <td>1</td>\n",
       "      <td>3.618034</td>\n",
       "      <td>0.8750</td>\n",
       "      <td>2.000000</td>\n",
       "      <td>5</td>\n",
       "      <td>0</td>\n",
       "    </tr>\n",
       "    <tr>\n",
       "      <th>2</th>\n",
       "      <td>1.125000</td>\n",
       "      <td>1</td>\n",
       "      <td>3.618034</td>\n",
       "      <td>0.8750</td>\n",
       "      <td>3.000000</td>\n",
       "      <td>5</td>\n",
       "      <td>0</td>\n",
       "    </tr>\n",
       "    <tr>\n",
       "      <th>3</th>\n",
       "      <td>1.125000</td>\n",
       "      <td>1</td>\n",
       "      <td>3.618034</td>\n",
       "      <td>0.8750</td>\n",
       "      <td>4.000000</td>\n",
       "      <td>5</td>\n",
       "      <td>0</td>\n",
       "    </tr>\n",
       "    <tr>\n",
       "      <th>4</th>\n",
       "      <td>1.208333</td>\n",
       "      <td>1</td>\n",
       "      <td>2.427051</td>\n",
       "      <td>0.1875</td>\n",
       "      <td>4.666667</td>\n",
       "      <td>3</td>\n",
       "      <td>0</td>\n",
       "    </tr>\n",
       "  </tbody>\n",
       "</table>\n",
       "</div>"
      ],
      "text/plain": [
       "             y  is_alive  perimeter    area         x  num_sides  id\n",
       "face                                                                \n",
       "0     1.250000         1   3.118034  0.5000  1.125000          4   0\n",
       "1     1.125000         1   3.618034  0.8750  2.000000          5   0\n",
       "2     1.125000         1   3.618034  0.8750  3.000000          5   0\n",
       "3     1.125000         1   3.618034  0.8750  4.000000          5   0\n",
       "4     1.208333         1   2.427051  0.1875  4.666667          3   0"
      ]
     },
     "execution_count": 20,
     "metadata": {},
     "output_type": "execute_result"
    }
   ],
   "source": [
    "sheet.face_df.head(5)"
   ]
  },
  {
   "cell_type": "code",
   "execution_count": 21,
   "metadata": {},
   "outputs": [
    {
     "data": {
      "text/html": [
       "<div>\n",
       "<style scoped>\n",
       "    .dataframe tbody tr th:only-of-type {\n",
       "        vertical-align: middle;\n",
       "    }\n",
       "\n",
       "    .dataframe tbody tr th {\n",
       "        vertical-align: top;\n",
       "    }\n",
       "\n",
       "    .dataframe thead th {\n",
       "        text-align: right;\n",
       "    }\n",
       "</style>\n",
       "<table border=\"1\" class=\"dataframe\">\n",
       "  <thead>\n",
       "    <tr style=\"text-align: right;\">\n",
       "      <th></th>\n",
       "      <th>trgt</th>\n",
       "      <th>nz</th>\n",
       "      <th>length</th>\n",
       "      <th>face</th>\n",
       "      <th>srce</th>\n",
       "      <th>dx</th>\n",
       "      <th>dy</th>\n",
       "      <th>sx</th>\n",
       "      <th>sy</th>\n",
       "      <th>tx</th>\n",
       "      <th>ty</th>\n",
       "      <th>fx</th>\n",
       "      <th>fy</th>\n",
       "      <th>ux</th>\n",
       "      <th>uy</th>\n",
       "      <th>rx</th>\n",
       "      <th>ry</th>\n",
       "      <th>sub_area</th>\n",
       "      <th>is_valid</th>\n",
       "      <th>phi</th>\n",
       "    </tr>\n",
       "    <tr>\n",
       "      <th>edge</th>\n",
       "      <th></th>\n",
       "      <th></th>\n",
       "      <th></th>\n",
       "      <th></th>\n",
       "      <th></th>\n",
       "      <th></th>\n",
       "      <th></th>\n",
       "      <th></th>\n",
       "      <th></th>\n",
       "      <th></th>\n",
       "      <th></th>\n",
       "      <th></th>\n",
       "      <th></th>\n",
       "      <th></th>\n",
       "      <th></th>\n",
       "      <th></th>\n",
       "      <th></th>\n",
       "      <th></th>\n",
       "      <th></th>\n",
       "      <th></th>\n",
       "    </tr>\n",
       "  </thead>\n",
       "  <tbody>\n",
       "    <tr>\n",
       "      <th>0</th>\n",
       "      <td>30</td>\n",
       "      <td>0.28125</td>\n",
       "      <td>0.750000</td>\n",
       "      <td>0</td>\n",
       "      <td>28</td>\n",
       "      <td>0.0</td>\n",
       "      <td>0.75</td>\n",
       "      <td>1.5</td>\n",
       "      <td>0.625</td>\n",
       "      <td>1.5</td>\n",
       "      <td>1.375</td>\n",
       "      <td>1.125</td>\n",
       "      <td>1.250</td>\n",
       "      <td>0.000000</td>\n",
       "      <td>1.000000</td>\n",
       "      <td>0.375</td>\n",
       "      <td>-0.625</td>\n",
       "      <td>0.140625</td>\n",
       "      <td>True</td>\n",
       "      <td>-0.643501</td>\n",
       "    </tr>\n",
       "    <tr>\n",
       "      <th>1</th>\n",
       "      <td>9</td>\n",
       "      <td>0.15625</td>\n",
       "      <td>0.559017</td>\n",
       "      <td>0</td>\n",
       "      <td>30</td>\n",
       "      <td>-0.5</td>\n",
       "      <td>0.25</td>\n",
       "      <td>1.5</td>\n",
       "      <td>1.375</td>\n",
       "      <td>1.0</td>\n",
       "      <td>1.625</td>\n",
       "      <td>1.125</td>\n",
       "      <td>1.250</td>\n",
       "      <td>-0.894427</td>\n",
       "      <td>0.447214</td>\n",
       "      <td>0.375</td>\n",
       "      <td>0.125</td>\n",
       "      <td>0.078125</td>\n",
       "      <td>True</td>\n",
       "      <td>0.643501</td>\n",
       "    </tr>\n",
       "    <tr>\n",
       "      <th>2</th>\n",
       "      <td>5</td>\n",
       "      <td>0.21875</td>\n",
       "      <td>0.559017</td>\n",
       "      <td>0</td>\n",
       "      <td>9</td>\n",
       "      <td>-0.5</td>\n",
       "      <td>-0.25</td>\n",
       "      <td>1.0</td>\n",
       "      <td>1.625</td>\n",
       "      <td>0.5</td>\n",
       "      <td>1.375</td>\n",
       "      <td>1.125</td>\n",
       "      <td>1.250</td>\n",
       "      <td>-0.894427</td>\n",
       "      <td>-0.447214</td>\n",
       "      <td>-0.125</td>\n",
       "      <td>0.375</td>\n",
       "      <td>0.109375</td>\n",
       "      <td>True</td>\n",
       "      <td>1.570796</td>\n",
       "    </tr>\n",
       "    <tr>\n",
       "      <th>3</th>\n",
       "      <td>28</td>\n",
       "      <td>0.34375</td>\n",
       "      <td>1.250000</td>\n",
       "      <td>0</td>\n",
       "      <td>5</td>\n",
       "      <td>1.0</td>\n",
       "      <td>-0.75</td>\n",
       "      <td>0.5</td>\n",
       "      <td>1.375</td>\n",
       "      <td>1.5</td>\n",
       "      <td>0.625</td>\n",
       "      <td>1.125</td>\n",
       "      <td>1.250</td>\n",
       "      <td>1.788854</td>\n",
       "      <td>-1.341641</td>\n",
       "      <td>-0.625</td>\n",
       "      <td>0.125</td>\n",
       "      <td>0.171875</td>\n",
       "      <td>True</td>\n",
       "      <td>1.570796</td>\n",
       "    </tr>\n",
       "    <tr>\n",
       "      <th>4</th>\n",
       "      <td>43</td>\n",
       "      <td>0.37500</td>\n",
       "      <td>0.750000</td>\n",
       "      <td>1</td>\n",
       "      <td>29</td>\n",
       "      <td>0.0</td>\n",
       "      <td>0.75</td>\n",
       "      <td>2.5</td>\n",
       "      <td>0.625</td>\n",
       "      <td>2.5</td>\n",
       "      <td>1.375</td>\n",
       "      <td>2.000</td>\n",
       "      <td>1.125</td>\n",
       "      <td>0.000000</td>\n",
       "      <td>1.000000</td>\n",
       "      <td>0.500</td>\n",
       "      <td>-0.500</td>\n",
       "      <td>0.187500</td>\n",
       "      <td>True</td>\n",
       "      <td>-0.643501</td>\n",
       "    </tr>\n",
       "  </tbody>\n",
       "</table>\n",
       "</div>"
      ],
      "text/plain": [
       "      trgt       nz    length  face  srce   dx    dy   sx     sy   tx     ty  \\\n",
       "edge                                                                           \n",
       "0       30  0.28125  0.750000     0    28  0.0  0.75  1.5  0.625  1.5  1.375   \n",
       "1        9  0.15625  0.559017     0    30 -0.5  0.25  1.5  1.375  1.0  1.625   \n",
       "2        5  0.21875  0.559017     0     9 -0.5 -0.25  1.0  1.625  0.5  1.375   \n",
       "3       28  0.34375  1.250000     0     5  1.0 -0.75  0.5  1.375  1.5  0.625   \n",
       "4       43  0.37500  0.750000     1    29  0.0  0.75  2.5  0.625  2.5  1.375   \n",
       "\n",
       "         fx     fy        ux        uy     rx     ry  sub_area  is_valid  \\\n",
       "edge                                                                       \n",
       "0     1.125  1.250  0.000000  1.000000  0.375 -0.625  0.140625      True   \n",
       "1     1.125  1.250 -0.894427  0.447214  0.375  0.125  0.078125      True   \n",
       "2     1.125  1.250 -0.894427 -0.447214 -0.125  0.375  0.109375      True   \n",
       "3     1.125  1.250  1.788854 -1.341641 -0.625  0.125  0.171875      True   \n",
       "4     2.000  1.125  0.000000  1.000000  0.500 -0.500  0.187500      True   \n",
       "\n",
       "           phi  \n",
       "edge            \n",
       "0    -0.643501  \n",
       "1     0.643501  \n",
       "2     1.570796  \n",
       "3     1.570796  \n",
       "4    -0.643501  "
      ]
     },
     "execution_count": 21,
     "metadata": {},
     "output_type": "execute_result"
    }
   ],
   "source": [
    "sheet.edge_df.head(5)"
   ]
  },
  {
   "cell_type": "code",
   "execution_count": 22,
   "metadata": {},
   "outputs": [
    {
     "data": {
      "text/html": [
       "<div>\n",
       "<style scoped>\n",
       "    .dataframe tbody tr th:only-of-type {\n",
       "        vertical-align: middle;\n",
       "    }\n",
       "\n",
       "    .dataframe tbody tr th {\n",
       "        vertical-align: top;\n",
       "    }\n",
       "\n",
       "    .dataframe thead th {\n",
       "        text-align: right;\n",
       "    }\n",
       "</style>\n",
       "<table border=\"1\" class=\"dataframe\">\n",
       "  <thead>\n",
       "    <tr style=\"text-align: right;\">\n",
       "      <th></th>\n",
       "      <th>y</th>\n",
       "      <th>is_active</th>\n",
       "      <th>x</th>\n",
       "    </tr>\n",
       "    <tr>\n",
       "      <th>vert</th>\n",
       "      <th></th>\n",
       "      <th></th>\n",
       "      <th></th>\n",
       "    </tr>\n",
       "  </thead>\n",
       "  <tbody>\n",
       "    <tr>\n",
       "      <th>0</th>\n",
       "      <td>3.625</td>\n",
       "      <td>1</td>\n",
       "      <td>1.0</td>\n",
       "    </tr>\n",
       "    <tr>\n",
       "      <th>1</th>\n",
       "      <td>3.375</td>\n",
       "      <td>1</td>\n",
       "      <td>0.5</td>\n",
       "    </tr>\n",
       "    <tr>\n",
       "      <th>2</th>\n",
       "      <td>4.625</td>\n",
       "      <td>1</td>\n",
       "      <td>0.5</td>\n",
       "    </tr>\n",
       "    <tr>\n",
       "      <th>3</th>\n",
       "      <td>4.375</td>\n",
       "      <td>1</td>\n",
       "      <td>1.0</td>\n",
       "    </tr>\n",
       "    <tr>\n",
       "      <th>4</th>\n",
       "      <td>3.375</td>\n",
       "      <td>1</td>\n",
       "      <td>1.5</td>\n",
       "    </tr>\n",
       "  </tbody>\n",
       "</table>\n",
       "</div>"
      ],
      "text/plain": [
       "          y  is_active    x\n",
       "vert                       \n",
       "0     3.625          1  1.0\n",
       "1     3.375          1  0.5\n",
       "2     4.625          1  0.5\n",
       "3     4.375          1  1.0\n",
       "4     3.375          1  1.5"
      ]
     },
     "execution_count": 22,
     "metadata": {},
     "output_type": "execute_result"
    }
   ],
   "source": [
    "sheet.vert_df.head(5)"
   ]
  },
  {
   "cell_type": "markdown",
   "metadata": {},
   "source": [
    "#### Modifying the geometry\n",
    "\n",
    "\n",
    "Most columns in the above dataframes are computed when the `geom.update_all` function is called. They depend only on the positions of the vertices, stored in `sheet.vert_df[['x', 'y']]`:\n",
    "\n",
    "* The edge length are simply $\\sqrt(x^2 + y^2)$ (Pythagoras represents).\n",
    "* The face centers are the center of mass of the vertices positions. \n",
    "\n",
    "> Can you guess how the face areas are computed?\n",
    "\n",
    "If we change those positions, we change all the values depending on them.\n",
    "\n",
    "We can also see statistics or compute various derivated quantities.\n"
   ]
  },
  {
   "cell_type": "code",
   "execution_count": 23,
   "metadata": {},
   "outputs": [
    {
     "name": "stdout",
     "output_type": "stream",
     "text": [
      "Average cells area:  0.805\n"
     ]
    }
   ],
   "source": [
    "avg_area = sheet.face_df['area'].mean()\n",
    "\n",
    "print(\"Average cells area: \", avg_area)"
   ]
  },
  {
   "cell_type": "code",
   "execution_count": 24,
   "metadata": {},
   "outputs": [
    {
     "data": {
      "image/png": "[encoded data removed]",
      "text/plain": [
       "<Figure size 576x576 with 1 Axes>"
      ]
     },
     "metadata": {
      "needs_background": "light"
     },
     "output_type": "display_data"
    }
   ],
   "source": [
    "sheet.vert_df['x'] = sheet.vert_df['x'] * 5\n",
    "geom.update_all(sheet)\n",
    "\n",
    "fig, ax = sheet_view(sheet, mode=\"2D\")\n",
    "fig.set_size_inches(8, 8)"
   ]
  },
  {
   "cell_type": "markdown",
   "metadata": {},
   "source": [
    "> **exercice**\n",
    ">\n",
    "> Rescale the sheet correctly"
   ]
  },
  {
   "cell_type": "markdown",
   "metadata": {},
   "source": [
    "<details><summary><b>Solution →</b></summary>\n",
    "\n",
    "```py\n",
    "sheet.vert_df['x'] = sheet.vert_df['x'] / 5\n",
    "geom.update_all(sheet)\n",
    "```\n",
    "\n",
    "</details>"
   ]
  },
  {
   "cell_type": "code",
   "execution_count": 25,
   "metadata": {},
   "outputs": [],
   "source": [
    "sheet.vert_df['x'] = sheet.vert_df['x'] / 5\n",
    "geom.update_all(sheet)"
   ]
  },
  {
   "cell_type": "markdown",
   "metadata": {},
   "source": [
    "> **exercice**\n",
    ">\n",
    "> Change the vertex positions so that the average area is close to 1.0, and update the geometry"
   ]
  },
  {
   "cell_type": "markdown",
   "metadata": {},
   "source": [
    "<details><summary><b>Solution →</b></summary>\n",
    "\n",
    "```py\n",
    "sheet.vert_df[['x', 'y']] /= sheet.face_df.area.mean()\n",
    "geom.update_all(sheet)\n",
    "```\n",
    "\n",
    "</details>"
   ]
  },
  {
   "cell_type": "code",
   "execution_count": 26,
   "metadata": {},
   "outputs": [],
   "source": [
    "sheet.vert_df[['x', 'y']] /= sheet.face_df.area.mean()\n",
    "geom.update_all(sheet)"
   ]
  },
  {
   "cell_type": "markdown",
   "metadata": {},
   "source": [
    "# Simple quasi-static model\n",
    "\n",
    "\n",
    "A common way to describe an epithelium is with the **quasistatic approximation**: we assume that at any point in time, without exterior perturbation, the epithelium is at an **energy minimum**. For a given expression of the model's Hamiltonian, we thus search the position of the vertices corresponding to the minimum of energy.\n",
    "\n",
    "## The Farhadifar model\n",
    "\n",
    "A very common formulation for the epithelium mechanical energy was given in [Farhadifar et al. in 2007](https://doi.org/10.1016/j.cub.2007.11.049).\n",
    "\n",
    "The energy is the sum of an area elasticity, a contractility and a line tension:\n",
    "$$\n",
    "E = \\sum_\\alpha \\frac{K_A}{2}(A_\\alpha - A_0)^2 + \\sum_\\alpha \\Gamma P_\\alpha^2 + \\sum_{ij} \\Lambda \\ell_{ij} \n",
    "$$\n",
    "\n",
    "In tyssue, `Model` objects provide functions to compute the energy for a given epithelium,  as well as it's spatial derivatives over the vertices positions, the gradient.\n",
    "\n",
    "\n",
    "The calculus is done with the columns of the dataframes, for exemple, if we set the value 0.12 for the term $\\Lambda$ for all the edges of the epithelium:\n",
    "\n"
   ]
  },
  {
   "cell_type": "code",
   "execution_count": 27,
   "metadata": {},
   "outputs": [
    {
     "name": "stdout",
     "output_type": "stream",
     "text": [
      "Line tension energy :  12.966751538757169\n"
     ]
    }
   ],
   "source": [
    "sheet.edge_df[\"line_tension\"] = 0.12\n",
    "E_lt = (sheet.edge_df[\"length\"] * sheet.edge_df[\"line_tension\"]).sum()\n",
    "print(\"Line tension energy : \", E_lt)"
   ]
  },
  {
   "cell_type": "markdown",
   "metadata": {},
   "source": [
    "> **exercice**\n",
    ">\n",
    "> Add a \"contractily\" column in `sheet.face_df` with value 0.07\n",
    "> & compute the energy associated with the contractility term above"
   ]
  },
  {
   "cell_type": "markdown",
   "metadata": {},
   "source": [
    "<details><summary><b>Solution →</b></summary>\n",
    "\n",
    "```py\n",
    "sheet.face_df[\"contractility\"] = 0.04\n",
    "E_lt = (sheet.face_df[\"contractility\"] * sheet.face_df[\"perimeter\"]**2).sum()\n",
    "print(\"Contractility energy : \", E_lt)\n",
    "```\n",
    "\n",
    "</details>"
   ]
  },
  {
   "cell_type": "code",
   "execution_count": 29,
   "metadata": {},
   "outputs": [
    {
     "name": "stdout",
     "output_type": "stream",
     "text": [
      "Contractility energy :  18.91478258257701\n"
     ]
    }
   ],
   "source": [
    "sheet.face_df[\"contractility\"] = 0.04\n",
    "E_lt = (sheet.face_df[\"contractility\"] * sheet.face_df[\"perimeter\"]**2).sum()\n",
    "print(\"Contractility energy : \", E_lt)"
   ]
  },
  {
   "cell_type": "markdown",
   "metadata": {},
   "source": [
    "This model has been predifined in tyssue as the default `PlanarModel`. We can use it in combination with a `Solver` object to find the energy minimum of our sheet.\n",
    "\n",
    "To add the various columns in the dataframes (as we did above) we use a  **specification dictionnary** with the required parameters."
   ]
  },
  {
   "cell_type": "code",
   "execution_count": 31,
   "metadata": {},
   "outputs": [
    {
     "name": "stdout",
     "output_type": "stream",
     "text": [
      "{'edge': {'is_active': 1,\n",
      "          'line_tension': 0.12,\n",
      "          'ux': 0.0,\n",
      "          'uy': 0.0,\n",
      "          'uz': 0.0},\n",
      " 'face': {'area_elasticity': 1.0,\n",
      "          'contractility': 0.04,\n",
      "          'is_alive': 1,\n",
      "          'prefered_area': 1.0},\n",
      " 'settings': {'grad_norm_factor': 1.0, 'nrj_norm_factor': 1.0},\n",
      " 'vert': {'is_active': 1}}\n"
     ]
    }
   ],
   "source": [
    "from tyssue.config.dynamics import quasistatic_plane_spec\n",
    "from tyssue.dynamics.planar_vertex_model import PlanarModel as model\n",
    "from tyssue.solvers import QSSolver\n",
    "from pprint import pprint\n",
    "\n",
    "\n",
    "# Update the specs (adds / changes the values in the dataframes' columns)\n",
    "sheet.update_specs(quasistatic_plane_spec())\n",
    "\n",
    "pprint(quasistatic_plane_spec())"
   ]
  },
  {
   "cell_type": "code",
   "execution_count": 32,
   "metadata": {},
   "outputs": [
    {
     "name": "stdout",
     "output_type": "stream",
     "text": [
      "Total energy:  18.714361183679536\n"
     ]
    }
   ],
   "source": [
    "E_t = model.compute_energy(sheet)\n",
    "print(\"Total energy: \", E_t)"
   ]
  },
  {
   "cell_type": "markdown",
   "metadata": {},
   "source": [
    "The energy minimum is found with a _gradient descent_ strategy, the vertices are displaced in the direction opposit to the spatial derivative of the energy. Actually, this defines the **force** on the vertices.\n"
   ]
  },
  {
   "cell_type": "code",
   "execution_count": 36,
   "metadata": {},
   "outputs": [
    {
     "data": {
      "image/png": "[encoded data removed]",
      "text/plain": [
       "<Figure size 432x288 with 1 Axes>"
      ]
     },
     "metadata": {
      "needs_background": "light"
     },
     "output_type": "display_data"
    }
   ],
   "source": [
    "from tyssue.draw.plt_draw import plot_forces\n",
    "\n",
    "fig, ax = plot_forces(sheet, geom, model, ['x', 'y'], 1)"
   ]
  },
  {
   "cell_type": "code",
   "execution_count": 35,
   "metadata": {},
   "outputs": [
    {
     "name": "stdout",
     "output_type": "stream",
     "text": [
      "Successfull gradient descent?  True\n"
     ]
    },
    {
     "data": {
      "image/png": "[encoded data removed]",
      "text/plain": [
       "<Figure size 432x288 with 1 Axes>"
      ]
     },
     "metadata": {
      "needs_background": "light"
     },
     "output_type": "display_data"
    }
   ],
   "source": [
    "# Find energy minimum\n",
    "solver = QSSolver()\n",
    "res = solver.find_energy_min(sheet, \n",
    "                             geom,\n",
    "                             model)\n",
    "\n",
    "print(\"Successfull gradient descent? \", res['success'])\n",
    "fig, ax = sheet_view(sheet)"
   ]
  },
  {
   "cell_type": "markdown",
   "metadata": {},
   "source": [
    "## Effector classes\n",
    "\n",
    "\n",
    "In some more details, the model is the collection of three **effectors**:"
   ]
  },
  {
   "cell_type": "code",
   "execution_count": 37,
   "metadata": {},
   "outputs": [
    {
     "name": "stdout",
     "output_type": "stream",
     "text": [
      "Planar model effectors :\n",
      "\tLine tension\n",
      "\tContractility\n",
      "\tArea elasticity\n"
     ]
    }
   ],
   "source": [
    "print('Planar model effectors :', end='\\n\\t')\n",
    "print(*PlanarModel.labels, sep=\"\\n\\t\")"
   ]
  },
  {
   "cell_type": "markdown",
   "metadata": {},
   "source": [
    "\n",
    "An effector designates a dynamical term in the epithelium governing equation. For quasistatic models, we need to provide  a method to compute the energy associated with this effector, and the corresponding gradient. \n",
    "\n",
    "For example, we can consider a line tension effector. The energy is $E_t = \\sum_{ij} \\Lambda\\ell_{ij}$ where the sum is over all the edges. For each half-edge, the gradient of $E_t$ is defined by two terms, one for the gradient term associated with the half-edge ${ij}$ source, the over for it's target. For the $x$ coordinate:\n",
    "$$\n",
    "\\frac{\\partial E_t}{\\partial x_i}\n",
    "= \\Lambda\\left(\\sum_k \\frac{\\partial \\ell_{ik}}{\\partial x_i} + \\sum_m \\frac{\\partial \\ell_{mi}}{\\partial x_i}\\right)\n",
    "= \\Lambda\\left(\\sum_k \\frac{x_i}{\\ell_{ik}}  - \\sum_m \\frac{x_i}{\\ell_{mi}}\\right)\n",
    "$$\n",
    "\n",
    "Where $\\sum_k$ is are over all the edges which vertex $i$ is a source, and $\\sum_m$ over all the edges of which vertex i is a target. \n",
    "\n",
    "\n",
    "Here is the definition of the line tension effector:\n",
    "```python\n",
    "class LineTension(AbstractEffector):\n",
    "\n",
    "    dimensions = units.line_tension\n",
    "    magnitude = \"line_tension\"\n",
    "    label = \"Line tension\"\n",
    "    element = \"edge\"\n",
    "    specs = {\"edge\": {\"is_active\": 1, \"line_tension\": 1e-2}}\n",
    "\n",
    "    spatial_ref = \"mean_length\", units.length\n",
    "\n",
    "    @staticmethod\n",
    "    def energy(eptm):\n",
    "        return eptm.edge_df.eval(\n",
    "            \"line_tension\" \"* is_active\" \"* length / 2\"\n",
    "        )  # accounts for half edges\n",
    "\n",
    "    @staticmethod\n",
    "    def gradient(eptm):\n",
    "        grad_srce = -eptm.edge_df[eptm.ucoords] * to_nd(\n",
    "            eptm.edge_df.eval(\"line_tension * is_active/2\"), len(eptm.coords)\n",
    "        )\n",
    "        grad_srce.columns = [\"g\" + u for u in eptm.coords]\n",
    "        grad_trgt = -grad_srce\n",
    "        return grad_srce, grad_trgt\n",
    "```\n",
    "\n",
    "For quasistatic methods, this effectors are agregated with others to define a `model` object. This object will have two methods `compute_energy` and `compute_gradient` that take an `Epithelium` object as single argument."
   ]
  },
  {
   "cell_type": "markdown",
   "metadata": {},
   "source": [
    "\n",
    "# Simulating cell growth \n",
    "\n",
    "> **exercice**\n",
    ">\n",
    "> How would you simulate a single cell growth?\n",
    "\n",
    "**Hint**: You can use [`loc`](https://pandas.pydata.org/docs/user_guide/indexing.html#selection-by-label) to access an element or a subelement of the dataframes. You can inspect `quasistatic_plane_spec()` to find the relevant columns.\n",
    "\n",
    "\n",
    "<details><summary><b>Solution →</b></summary>\n",
    "By increasing the equilibrium area of this cell:\n",
    "\n",
    "```py\n",
    "sheet.face_df.loc[12, \"perefered_area\"] *= 1.5\n",
    "model.find_energy_min(sheet, geom, model)    \n",
    "```\n",
    "</details>"
   ]
  },
  {
   "cell_type": "code",
   "execution_count": 43,
   "metadata": {},
   "outputs": [
    {
     "data": {
      "image/png": "[encoded data removed]",
      "text/plain": [
       "<Figure size 432x288 with 1 Axes>"
      ]
     },
     "metadata": {
      "needs_background": "light"
     },
     "output_type": "display_data"
    }
   ],
   "source": [
    "sheet.face_df.loc[12, \"prefered_area\"] *= 1.5\n",
    "solver.find_energy_min(sheet, geom, model)  \n",
    "fig, ax = sheet_view(sheet)"
   ]
  },
  {
   "cell_type": "markdown",
   "metadata": {},
   "source": [
    "# Apoptosis\n",
    "\n",
    "- passer sur un petit tissue en 2.5D \n",
    "- etape de l'apoptose\n",
    "- Event manager\n"
   ]
  },
  {
   "cell_type": "markdown",
   "metadata": {},
   "source": [
    "Here is the code for the apoptosis behavior:\n",
    "\n",
    "```py\n",
    "def apoptosis(sheet, manager, **kwargs):\n",
    "    \"\"\"Apoptotic behavior\n",
    "\n",
    "    While the cell's apical area is bigger than a threshold, the\n",
    "    cell shrinks, and the contractility of its neighbors is increased.\n",
    "    once the critical area is reached, the cell is eliminated\n",
    "    from the apical surface through successive type 1 transition. Once\n",
    "    only three sides are left, the cell is eliminated from the tissue.\n",
    "\n",
    "    Parameters\n",
    "    ----------\n",
    "    sheet : a :class:`Sheet` object\n",
    "    manager : a :class:`EventManager` object\n",
    "    face_id : int,\n",
    "        the id of the apoptotic cell\n",
    "    shrink_rate : float, default 0.1\n",
    "        the rate of reduction of the cell's prefered volume\n",
    "        e.g. the prefered volume is devided by a factor 1+shrink_rate\n",
    "    critical_area : area at which the face is eliminated from the sheet\n",
    "    radial_tension : amount of radial tension added at each contraction steps\n",
    "    contractile_increase : increase in contractility at the cell neighbors\n",
    "    contract_span : number of neighbors affected by the contracitity increase\n",
    "    geom : the geometry class used\n",
    "    \"\"\"\n",
    "\n",
    "    apoptosis_spec = default_apoptosis_spec\n",
    "    apoptosis_spec.update(**kwargs)\n",
    "    face = apoptosis_spec[\"face\"]\n",
    "\n",
    "    if sheet.face_df.loc[face, \"area\"] > apoptosis_spec[\"critical_area\"]:\n",
    "        # Shrink and pull\n",
    "        shrink(sheet, face, apoptosis_spec[\"shrink_rate\"])\n",
    "        ab_pull(sheet, face, apoptosis_spec[\"radial_tension\"])\n",
    "        # contract neighbors\n",
    "        neighbors = sheet.get_neighborhood(\n",
    "            face, apoptosis_spec[\"contract_span\"]\n",
    "        ).dropna()\n",
    "        neighbors[\"id\"] = sheet.face_df.loc[neighbors.face, \"id\"].values\n",
    "        manager.extend(\n",
    "            [\n",
    "                (\n",
    "                    contraction,\n",
    "                    {\n",
    "                        \"face_id\": neighbor[\"id\"],\n",
    "                        \"contractile_increase\": (\n",
    "                            apoptosis_spec[\"contractile_increase\"] / neighbor[\"order\"],\n",
    "                        ),\n",
    "                    },\n",
    "                )\n",
    "                for _, neighbor in neighbors.iterrows()\n",
    "            ]\n",
    "        )\n",
    "        done = False\n",
    "    else:\n",
    "        if sheet.face_df.loc[face, \"num_sides\"] > 3:\n",
    "            exchange(sheet, face, apoptosis_spec[\"geom\"])\n",
    "            done = False\n",
    "        else:\n",
    "            remove(sheet, face, apoptosis_spec[\"geom\"])\n",
    "            done = True\n",
    "    if not done:\n",
    "        manager.append(apoptosis, **apoptosis_spec)\n",
    "```\n"
   ]
  },
  {
   "cell_type": "code",
   "execution_count": null,
   "metadata": {},
   "outputs": [],
   "source": [
    "\n",
    "from tyssue.behaviors.sheet import apoptosis\n",
    "from tyssue.behaviors import EventManager\n",
    "\n",
    "\n",
    "manager = EventManager('face')\n",
    "\n",
    "\n",
    "sheet.settings['apoptosis'] = {\n",
    "    'shrink_rate': 1.2,\n",
    "    'critical_area': 8.,\n",
    "    'radial_tension': 0.2,\n",
    "    'contractile_increase': 0.3,\n",
    "    'contract_span': 2\n",
    "    }\n",
    "\n",
    "sheet.face_df['id'] = sheet.face_df.index.values\n",
    "manager.append(apoptosis, face_id=apoptotic_cell, **sheet.settings['apoptosis'])"
   ]
  },
  {
   "cell_type": "code",
   "execution_count": null,
   "metadata": {},
   "outputs": [],
   "source": [
    "t = 0\n",
    "stop=100\n",
    "\n",
    "progress = widgets.IntProgress(min=0, max=stop)\n",
    "progress.value = 0\n",
    "display(progress)\n",
    "\n",
    "history = History(sheet)\n",
    "\n",
    "while manager.current and t < stop:\n",
    "    manager.execute(sheet)\n",
    "    t += 1\n",
    "    progress.value = t\n",
    "    res = solver.find_energy_min(sheet, geom, model, **min_settings)\n",
    "    history.record()\n",
    "    manager.update()"
   ]
  },
  {
   "cell_type": "code",
   "execution_count": null,
   "metadata": {},
   "outputs": [],
   "source": [
    "\n",
    "color = sheet.vert_df['y']\n",
    "fig, mesh = sheet_view(sheet, coords=['z', 'x', 'y'], edge={\"color\":color}, mode=\"3D\")\n",
    "fig"
   ]
  },
  {
   "cell_type": "code",
   "execution_count": null,
   "metadata": {},
   "outputs": [],
   "source": [
    "\n",
    "browse_history(history, edge={\"color\":lambda s : s.edge_df[\"length\"]})"
   ]
  },
  {
   "cell_type": "code",
   "execution_count": null,
   "metadata": {},
   "outputs": [],
   "source": []
  },
  {
   "cell_type": "code",
   "execution_count": null,
   "metadata": {},
   "outputs": [],
   "source": []
  },
  {
   "cell_type": "code",
   "execution_count": null,
   "metadata": {},
   "outputs": [],
   "source": []
  },
  {
   "cell_type": "markdown",
   "metadata": {},
   "source": [
    "# \"Ecriture\" d'un effecteur"
   ]
  },
  {
   "cell_type": "code",
   "execution_count": null,
   "metadata": {},
   "outputs": [],
   "source": [
    "import numpy as np\n",
    "import pandas as pd\n",
    "\n",
    "from tyssue import config, Sheet, PlanarGeometry\n",
    "from tyssue.solvers import QSSolver\n",
    "\n",
    "from tyssue.solvers.viscous import EulerSolver\n",
    "from tyssue.draw import sheet_view\n",
    "\n",
    "from tyssue.dynamics.factory import model_factory\n",
    "from tyssue.dynamics import effectors, units\n",
    "\n",
    "from tyssue.utils import to_nd\n",
    "from tyssue.utils.testing import effector_tester, model_tester\n",
    "from tyssue.behaviors import EventManager\n",
    "from tyssue.behaviors.sheet import basic_events\n",
    "\n",
    "from tyssue.draw import highlight_faces, create_gif"
   ]
  },
  {
   "cell_type": "code",
   "execution_count": null,
   "metadata": {},
   "outputs": [],
   "source": [
    "# create 2d patch of cell\n",
    "geom = PlanarGeometry\n",
    "\n",
    "sheet = Sheet.planar_sheet_2d('jam', 15, 15, 1, 1, noise=0.2)\n",
    "geom.update_all(sheet)\n",
    "\n",
    "sheet.remove(sheet.cut_out([[0, 8], [0, 8]]), trim_borders=True)\n",
    "sheet.sanitize()\n",
    "geom.scale(sheet, sheet.face_df.area.mean()**-0.5, ['x', 'y'])\n",
    "geom.update_all(sheet)\n",
    "sheet.reset_index()\n",
    "sheet.reset_topo()\n",
    "fig, ax = sheet_view(sheet, mode=\"quick\")"
   ]
  },
  {
   "cell_type": "markdown",
   "metadata": {},
   "source": [
    "## Define the relevant mechanical components"
   ]
  },
  {
   "cell_type": "code",
   "execution_count": null,
   "metadata": {},
   "outputs": [],
   "source": [
    "\n",
    "# Adding some gigling\n",
    "class BrownianMotion(effectors.AbstractEffector):\n",
    "    \n",
    "    label = 'Brownian Motion'\n",
    "    element = 'vert'\n",
    "    specs = {\"settings\": {\"temperature\": 1e-3}}\n",
    "    \n",
    "    def energy(eptm):\n",
    "        T = eptm.settings['temperature']\n",
    "        return np.ones(eptm.Nv) * T / eptm.Nv\n",
    "    \n",
    "    def gradient(eptm):\n",
    "        T = eptm.settings['temperature']\n",
    "        scale = T/eptm.edge_df.length.mean()\n",
    "        \n",
    "        grad = pd.DataFrame(\n",
    "            data=np.random.normal(0, scale=scale, size=(eptm.Nv, eptm.dim)),\n",
    "            index=eptm.vert_df.index,\n",
    "            columns=['g'+c for c in eptm.coords]\n",
    "        )\n",
    "        return grad, None"
   ]
  },
  {
   "cell_type": "markdown",
   "metadata": {},
   "source": [
    "## Quasistatic gradient descent\n",
    "With only the conservative potential terms"
   ]
  },
  {
   "cell_type": "code",
   "execution_count": null,
   "metadata": {},
   "outputs": [],
   "source": [
    "model = model_factory(\n",
    "    [effectors.PerimeterElasticity,\n",
    "     BrownianMotion,\n",
    "     effectors.LineTension,\n",
    "     effectors.FaceAreaElasticity])\n",
    "\n",
    "\n",
    "# setting up values for the whole epithelium\n",
    "model_specs = {\n",
    "    'face': {\n",
    "        'area_elasticity': 1.,\n",
    "        'prefered_area': 1.,\n",
    "        'perimeter_elasticity': 0.05, # 1/2r in the master equation\n",
    "        'prefered_perimeter': 3.81,\n",
    "        \"id\": sheet.face_df.index\n",
    "        },\n",
    "    'vert': {\n",
    "        \"viscosity\": 1.0\n",
    "        },\n",
    "    'edge': {'ux': 0, 'uy': 0},\n",
    "    'settings': {\n",
    "        'temperature': 2e-1,\n",
    "        \"p_4\": 10.0,\n",
    "        \"p_5p\": 1.0,\n",
    "        \"threshold_length\": 2e-2\n",
    "    }\n",
    "}\n",
    "\n",
    "sheet.update_specs(model_specs, reset=True)\n",
    "\n",
    "res = QSSolver().find_energy_min(sheet, PlanarGeometry, model)\n",
    "\n",
    "print(res.message)"
   ]
  },
  {
   "cell_type": "code",
   "execution_count": null,
   "metadata": {},
   "outputs": [],
   "source": [
    "# Save the original sheet in a backup objet\n",
    "bck = sheet.copy()"
   ]
  },
  {
   "cell_type": "code",
   "execution_count": null,
   "metadata": {},
   "outputs": [],
   "source": [
    "def tract(eptm, face, pull_axis, value, pull_column='line_tension', face_id=None):\n",
    "    \"\"\"Modeling face traction as shrinking apical junctions on the neighouring cells,\n",
    "    \n",
    "    As if pseudopods where pulling between the cells\n",
    "    \n",
    "    \n",
    "    \"\"\"\n",
    "    \n",
    "    \n",
    "    pull_axis = np.asarray(pull_axis)\n",
    "    edges = eptm.edge_df.query(f'face == {face}')\n",
    "    verts = edges['srce'].values\n",
    "    r_ai = edges[[\"r\"+c for c in eptm.coords]].values\n",
    "    proj = (r_ai * pull_axis[None, :]).sum(axis=1)\n",
    "    \n",
    "    pulling_vert = verts[np.argmax(proj)]\n",
    "    \n",
    "    v_edges = eptm.edge_df.query(\n",
    "        f'(srce == {pulling_vert}) & (face != {face})'\n",
    "    )\n",
    "    pulling_edges = v_edges[~v_edges['trgt'].isin(verts)].index\n",
    "    eptm.edge_df[pull_column] = 0\n",
    "\n",
    "    if pulling_edges.size:\n",
    "        eptm.edge_df.loc[pulling_edges, pull_column] = value\n",
    "        \n",
    "        \n",
    "default_traction_spec = {\n",
    "    \"face\": -1,\n",
    "    \"face_id\": -1,\n",
    "    \"pull_axis\": [0.1, 0.9],\n",
    "    \"value\": 4,\n",
    "    \"pull_column\": \"line_tension\"\n",
    "}\n",
    "\n",
    "\n",
    "from tyssue.utils.decorators import face_lookup\n",
    "\n",
    "@face_lookup\n",
    "def traction(sheet, manager, **kwargs):\n",
    "    \n",
    "    traction_spec = default_traction_spec\n",
    "    traction_spec.update(**kwargs)\n",
    "    pulling = tract(sheet, **traction_spec)\n",
    "    \n",
    "    manager.append(traction, **traction_spec)"
   ]
  },
  {
   "cell_type": "code",
   "execution_count": null,
   "metadata": {},
   "outputs": [],
   "source": [
    "pulled = 2"
   ]
  },
  {
   "cell_type": "code",
   "execution_count": null,
   "metadata": {},
   "outputs": [],
   "source": [
    "# Euler solver + manager\n",
    "\n",
    "# This allows to auomaticaly solve topology changes\n",
    "\n",
    "manager = EventManager(\"face\", )\n",
    "manager.append(basic_events.reconnect)\n",
    "manager.append(traction, face_id=pulled)\n",
    "\n",
    "# Implicit Euler solver\n",
    "\n",
    "solver = EulerSolver(\n",
    "    sheet,\n",
    "    geom,\n",
    "    model,\n",
    "    manager=manager,\n",
    "    bounds=(\n",
    "        -sheet.edge_df.length.median()/10,\n",
    "        sheet.edge_df.length.median()/10\n",
    "    )\n",
    ")\n",
    "manager.update()\n",
    "\n",
    "\n",
    "sheet.face_df['prefered_perimeter'] = 3.8"
   ]
  },
  {
   "cell_type": "code",
   "execution_count": null,
   "metadata": {},
   "outputs": [],
   "source": [
    "solver.solve(tf=120.0, dt=0.1)\n",
    "\n",
    "highlight_faces(sheet.face_df, [pulled,], reset_visible=True)\n",
    "\n",
    "fig, ax = sheet_view(\n",
    "    sheet,\n",
    "    mode=\"2D\",\n",
    "    face={\"visible\": True},\n",
    "    edge={\"head_width\": 0.0, \"color\": sheet.edge_df[\"line_tension\"]},\n",
    "    vert={\"visible\": False}\n",
    ")\n",
    "fig.set_size_inches(6, 6)"
   ]
  },
  {
   "cell_type": "code",
   "execution_count": null,
   "metadata": {},
   "outputs": [],
   "source": []
  },
  {
   "cell_type": "code",
   "execution_count": null,
   "metadata": {},
   "outputs": [],
   "source": []
  },
  {
   "cell_type": "markdown",
   "metadata": {},
   "source": [
    "# Full 3D "
   ]
  },
  {
   "cell_type": "code",
   "execution_count": null,
   "metadata": {},
   "outputs": [],
   "source": [
    "import pandas as pd\n",
    "import numpy as np\n",
    "import json\n",
    "import matplotlib.pylab as plt\n",
    "import ipyvolume as ipv\n",
    "%matplotlib inline\n",
    "\n",
    "from tyssue.core.sheet import Sheet\n",
    "\n",
    "from tyssue import Sheet, Monolayer, config\n",
    "\n",
    "from tyssue.topology.monolayer_topology import cell_division\n",
    "\n",
    "from tyssue import ClosedMonolayerGeometry as geom\n",
    "from tyssue.solvers import QSSolver\n",
    "from tyssue.generation import extrude\n",
    "\n",
    "\n",
    "from tyssue.dynamics import effectors, model_factory\n",
    "\n",
    "from tyssue.draw import sheet_view\n",
    "\n",
    "from tyssue.io.hdf5 import save_datasets, load_datasets"
   ]
  },
  {
   "cell_type": "code",
   "execution_count": null,
   "metadata": {},
   "outputs": [],
   "source": [
    "specs = config.geometry.bulk_spec()\n",
    "\n",
    "sheet = Sheet.planar_sheet_3d('flat', 4, 5, 1, 1)\n",
    "sheet.sanitize()\n",
    "datasets = extrude(sheet.datasets, method='translation')\n",
    "mono = Monolayer('mono', datasets, specs)\n",
    "\n",
    "geom.center(mono)\n",
    "geom.update_all(mono)\n",
    "\n",
    "\n",
    "# ## Settings for the quasi-static model\n",
    "model = model_factory([effectors.LumenVolumeElasticity,\n",
    "                       effectors.CellVolumeElasticity,\n",
    "                       effectors.CellAreaElasticity,\n",
    "                       effectors.LineTension],\n",
    "                      effectors.CellVolumeElasticity)\n",
    "\n",
    "dyn_specs = config.dynamics.quasistatic_bulk_spec()\n",
    "dyn_specs['cell']['area_elasticity'] = 0.05\n",
    "dyn_specs['cell']['prefered_area'] = 6.\n",
    "dyn_specs['cell']['vol_elasticity'] = 1.\n",
    "dyn_specs['cell']['prefered_vol'] = 1.2\n",
    "dyn_specs['face']['contractility'] = 0.0\n",
    "dyn_specs['edge']['line_tension'] = 0.0\n",
    "\n",
    "\n",
    "mono.update_specs(dyn_specs, reset=True)\n",
    "\n",
    "\n",
    "mono.face_df.loc[mono.apical_faces, 'contractility'] = 1e-3\n",
    "mono.face_df.loc[mono.basal_faces, 'contractility'] = 1e-3\n",
    "\n",
    "res = Solver.find_energy_min(mono, geom, model)"
   ]
  },
  {
   "cell_type": "code",
   "execution_count": null,
   "metadata": {},
   "outputs": [],
   "source": [
    "from tyssue.behaviors.events import EventManager\n",
    "from tyssue.behaviors.monolayer_events import apoptosis\n",
    "\n",
    "#Initiate manager\n",
    "manager = EventManager('face')\n",
    "sheet.face_df['enter_in_process'] = 0  \n",
    "\n",
    "t=0\n",
    "stop = 20\n",
    "\n",
    "settings = {'contract_rate': 2,\n",
    "            'critical_area': 0.02,\n",
    "            'shrink_rate': 0.4,\n",
    "            'critical_volume': 0.1}\n",
    "contract_rate= 2\n",
    "critical_area= 0.02\n",
    "shrink_rate= 0.4\n",
    "critical_volume= 0.1\n",
    "\n",
    "manager.append(apoptosis, 4, (contract_rate,\n",
    "            critical_area,\n",
    "            shrink_rate,\n",
    "            critical_volume))\n",
    "\n",
    "while manager.current and t<stop:\n",
    "    print (t)\n",
    "    manager.execute(mono)\n",
    "    res = Solver.find_energy_min(mono, geom, model)\n",
    "    manager.update()\n",
    "    t+=1"
   ]
  },
  {
   "cell_type": "code",
   "execution_count": null,
   "metadata": {},
   "outputs": [],
   "source": []
  },
  {
   "cell_type": "code",
   "execution_count": null,
   "metadata": {},
   "outputs": [],
   "source": [
    "\n",
    "def view3d(mono):\n",
    "    ipv.clear()\n",
    "    draw_spec = config.draw.sheet_spec()\n",
    "    draw_spec['face']['visible'] = True \n",
    "    draw_spec['face']['color'] = mono.face_df.area\n",
    "    draw_spec['face']['color_range'] = (0, 1)\n",
    "    # function plotting two meshes\n",
    "    fig, meshes = sheet_view(mono, mode='3D', **draw_spec)\n",
    "    fig = ipv.gcf()\n",
    "\n",
    "    #mesh = ipv.examples.klein_bottle(show=False)\n",
    "    #fig.meshes = fig.meshes + [mesh, ]\n",
    "    fig.anglex = 1.0\n",
    "    fig.angley = 0.2\n",
    "    fig.anglez = 0.1\n",
    "    \n",
    "    ipv.show()\n",
    "    #timestamp = datetime.now().isoformat().replace(':', '').replace('.', '_')\n",
    "    #ipv.savefig(f'{mono.identifier}_{timestamp}.png')\n",
    "    "
   ]
  },
  {
   "cell_type": "code",
   "execution_count": null,
   "metadata": {},
   "outputs": [],
   "source": [
    "view3d(mono)"
   ]
  },
  {
   "cell_type": "code",
   "execution_count": null,
   "metadata": {},
   "outputs": [],
   "source": [
    "highlight_cells(mono, 4)\n",
    "view3d(mono)"
   ]
  },
  {
   "cell_type": "code",
   "execution_count": null,
   "metadata": {},
   "outputs": [],
   "source": []
  },
  {
   "cell_type": "code",
   "execution_count": null,
   "metadata": {},
   "outputs": [],
   "source": []
  },
  {
   "cell_type": "code",
   "execution_count": null,
   "metadata": {},
   "outputs": [],
   "source": [
    "from tyssue.behaviors.events import EventManager\n",
    "from tyssue.behaviors.monolayer_events import apoptosis\n",
    "\n",
    "#Initiate manager\n",
    "manager = EventManager('face')\n",
    "sheet.face_df['enter_in_process'] = 0  \n",
    "\n",
    "t=0\n",
    "stop = 20\n",
    "\n",
    "settings = {'contract_rate': 2,\n",
    "            'critical_area': 0.02,\n",
    "            'shrink_rate': 0.4,\n",
    "            'critical_volume': 0.1}\n",
    "contract_rate= 2\n",
    "critical_area= 0.02\n",
    "shrink_rate= 0.4\n",
    "critical_volume= 0.1\n",
    "\n",
    "manager.append(apoptosis, 4, (contract_rate,\n",
    "            critical_area,\n",
    "            shrink_rate,\n",
    "            critical_volume))\n",
    "\n",
    "while manager.current and t<stop:\n",
    "    print (t)\n",
    "    manager.execute(mono)\n",
    "    res = Solver.find_energy_min(mono, geom, model)\n",
    "    manager.update()\n",
    "    t+=1"
   ]
  },
  {
   "cell_type": "code",
   "execution_count": null,
   "metadata": {},
   "outputs": [],
   "source": [
    "mono.face_df.visible=True\n",
    "view3d(mono)"
   ]
  },
  {
   "cell_type": "code",
   "execution_count": null,
   "metadata": {},
   "outputs": [],
   "source": [
    "highlight_cells(mono, 4, reset_visible=True)\n",
    "view3d(mono)"
   ]
  },
  {
   "cell_type": "code",
   "execution_count": null,
   "metadata": {},
   "outputs": [],
   "source": []
  },
  {
   "cell_type": "code",
   "execution_count": null,
   "metadata": {},
   "outputs": [],
   "source": []
  },
  {
   "cell_type": "code",
   "execution_count": null,
   "metadata": {},
   "outputs": [],
   "source": []
  },
  {
   "cell_type": "code",
   "execution_count": null,
   "metadata": {},
   "outputs": [],
   "source": []
  }
 ],
 "metadata": {
  "kernelspec": {
   "display_name": "Python 3",
   "language": "python",
   "name": "python3"
  },
  "language_info": {
   "codemirror_mode": {
    "name": "ipython",
    "version": 3
   },
   "file_extension": ".py",
   "mimetype": "text/x-python",
   "name": "python",
   "nbconvert_exporter": "python",
   "pygments_lexer": "ipython3",
   "version": "3.9.1"
  }
 },
 "nbformat": 4,
 "nbformat_minor": 4
}
