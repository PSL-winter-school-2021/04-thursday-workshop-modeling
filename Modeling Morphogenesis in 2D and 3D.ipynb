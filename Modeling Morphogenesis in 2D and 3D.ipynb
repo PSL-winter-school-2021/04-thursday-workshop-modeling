{
 "cells": [
  {
   "cell_type": "markdown",
   "metadata": {},
   "source": [
    "# Workshop outline & objectives\n",
    "\n",
    "\n",
    "Welcome to the « Modeling Morphogenesis in 2D and 3D » workshop.\n",
    "\n",
    "In this workshop, we'll use the [tyssue](https://tyssue.readthedocs.io) to explore the basics of vertex based modeling of epithelium in 2D and 3D.\n",
    "\n",
    "You'll learn how to use the library to desing epithelium simulation from the basic cell level morphogenetic events up.\n",
    "\n",
    "At the end of the workshop, we'll look into a \"full\" simulation and discuss what it would take to create a paper from it.\n",
    "\n",
    "\n",
    "\n",
    "\n",
    "## Outline\n",
    "\n",
    "\n",
    "### [Introduction](#Introduction-to-the-tyssue-library)\n",
    "\n",
    "\n",
    "\n",
    "### [1 - Quasi-static models](#Quasi-static-models)\n",
    "\n",
    "### [2 - Cell rearangements](#Cell-rearangements)\n",
    "\n",
    "### [3 - Modeling cell migration](#Modeling-cell-migration)\n",
    "\n",
    "\n",
    "\n",
    "# Introduction to the tyssue library\n",
    "\n",
    "\n",
    "The Tyssue python library allows to model mechanical behavior of 2D, apical 3D or full 3D epithelia.\n",
    "\n",
    "\n",
    "![dimension](illus/dimension.png)"
   ]
  },
  {
   "cell_type": "markdown",
   "metadata": {},
   "source": [
    "## Generate a 2D epithelium\n",
    "\n",
    "\n",
    "For this, we use a **Voronoï tessalation** of the cell centers.\n",
    "\n",
    "\n",
    "![tessalation gif](illus/tessalation.gif)\n",
    "\n"
   ]
  },
  {
   "cell_type": "code",
   "execution_count": null,
   "metadata": {},
   "outputs": [],
   "source": [
    "%matplotlib inline\n",
    "import matplotlib.pyplot as plt\n",
    "import numpy as np\n",
    "import pandas as pd\n",
    "\n",
    "import ipywidgets as widgets\n",
    "from IPython import display\n",
    "import ipyvolume as ipv\n",
    "\n",
    "# Core object\n",
    "from tyssue import Sheet\n",
    "# Simple 2D geometry\n",
    "from tyssue import PlanarGeometry as sgeom\n",
    "# Visualisation\n",
    "from tyssue.draw import (\n",
    "    sheet_view,\n",
    "    highlight_faces,\n",
    "    create_gif,\n",
    "    browse_history\n",
    ")\n",
    "\n",
    "sheet = Sheet.planar_sheet_2d(\n",
    "    'basic2D', # a name or identifier for this sheet\n",
    "    nx=6, # approximate number of cells on the x axis\n",
    "    ny=7, # approximate number of cells along the y axis\n",
    "    distx=1, # distance between 2 cells along x\n",
    "    disty=1, # distance between 2 cells along y\n",
    "    noise=0. # some position noise\n",
    ")\n",
    "sgeom.update_all(sheet)\n",
    "\n",
    "# Give the tissue a nice hear cut ;)\n",
    "sheet.sanitize(trim_borders=True, order_edges=True)\n",
    "sgeom.update_all(sheet)"
   ]
  },
  {
   "cell_type": "markdown",
   "metadata": {},
   "source": [
    "> Change the above parameters to see what happens"
   ]
  },
  {
   "cell_type": "code",
   "execution_count": null,
   "metadata": {
    "scrolled": false
   },
   "outputs": [],
   "source": [
    "# Visualisation of the tissue\n",
    "fig, ax = sheet_view(sheet, mode=\"2D\")\n",
    "fig.set_size_inches(8, 8)"
   ]
  },
  {
   "cell_type": "markdown",
   "metadata": {},
   "source": [
    "## Data structure\n",
    "\n",
    "\n",
    "The tyssue library defines tissue as a meshes. A vertex model defines a tissue as an assembly of vertices and edges, which can form polygonal face (in 2D) or polyhedron (in 3D). \n",
    "\n",
    "![vertex](illus/vertexmodel.png)\n",
    "\n",
    "The data associated with the mesh displayed above, i.e. the points positions, the connectivity information, etc. is stored in pandas [`DataFrame`](https://pandas.pydata.org/docs/reference/api/pandas.DataFrame.html#pandas.DataFrame) objects, hold together in the `datasets` dictionnary.\n",
    "\n",
    "Depending on the geometry, the following dataframes are populated:\n",
    "\n",
    "- `datasets[\"edge\"]` or `sheet.edge_df`: The edge related dataframe contains\n",
    "\n",
    "    - the connectivity information: source and target vertices, associated face and (for thick tissues) the associated cell body.\n",
    "    - geometry data associated with the edge, such as its length\n",
    "    - any suplemental data, such as a color or a dynamical parameter (an elasticity for example)\n",
    "    \n",
    "- `datasets[\"vert\"]` or `sheet.vert_df`: The vertices related dataframe. In the apical junction mesh above, those are the vertices at the cells junctions. It usually holds the coordinates of the points, and geometry or dynamical data.\n",
    "\n",
    "- `datasets[\"face\"]` or `sheet.face_df`: The faces related dataframe. For a thin, 2D tissue, this corresponds to a cell of the epithelium, delimited by its edges. In thick, 3D models, one cell has several faces (the apical, sagittal and basal ones for a 3D monolayer, for example).\n",
    "\n",
    "\n",
    "- `datasets[\"cell\"]` or `sheet.cell_df`: The cells related dataframe, only for 3D, thick, epithelium. Each cell have several faces.\n",
    "\n",
    "### We use _half-edges_\n",
    "\n",
    "Between two faces, an edge (a junction) is described by two entries in `sheet.edge_df`, one for each face. This simplifies some computations and algorithms, and allows to address each side of the junction separately.\n",
    "\n",
    "![Half edges](illus/double_edges.svg)\n",
    "\n",
    "### Coordinate system and columns in the dataframes\n",
    "\n",
    "\n",
    "In the above image, you can see the definition of the various coordinates stored in `edge_df`:\n",
    "\n",
    "- \"fx, fy\" : the position of the half-edge's face center\n",
    "- \"sx, sy\" : the position of the half-edge's source vertex\n",
    "- \"tx, ty\" : the position of the half-edge's target vertex\n",
    "- \"dx, dy\" : the coordinates of the half-edge's supporting vector\n",
    "- \"ux, uy\" : the coordinates of the half-edge's unitary vector (`ux = dx / sqrt(dx**2 + dy**2)`)\n",
    "- \"rx, ry\" : the positon of the source vertex relative to the face center\n",
    "\n",
    "\n",
    "\n"
   ]
  },
  {
   "cell_type": "code",
   "execution_count": null,
   "metadata": {},
   "outputs": [],
   "source": [
    "sheet.edge_df.head(5)"
   ]
  },
  {
   "cell_type": "code",
   "execution_count": null,
   "metadata": {},
   "outputs": [],
   "source": [
    "sheet.face_df.head(5)"
   ]
  },
  {
   "cell_type": "code",
   "execution_count": null,
   "metadata": {},
   "outputs": [],
   "source": [
    "sheet.vert_df.head(5)"
   ]
  },
  {
   "cell_type": "markdown",
   "metadata": {},
   "source": [
    "## Modifying the geometry\n",
    "\n",
    "\n",
    "Most columns in the above dataframes are computed when the `geom.update_all` function is called. They depend only on the positions of the vertices, stored in `sheet.vert_df[['x', 'y']]`:\n",
    "\n",
    "* The edge length are simply $\\sqrt(x^2 + y^2)$ (Pythagoras represents).\n",
    "* The face centers are the center of mass of the vertices positions. \n",
    "\n",
    "> Can you guess how the face areas are computed?\n",
    "\n",
    "If we change those positions, we change all the values depending on them.\n",
    "\n",
    "We can also see statistics or compute various derivated quantities.\n"
   ]
  },
  {
   "cell_type": "code",
   "execution_count": null,
   "metadata": {},
   "outputs": [],
   "source": [
    "avg_area = sheet.face_df['area'].mean()\n",
    "\n",
    "print(\"Average cells area: \", avg_area)"
   ]
  },
  {
   "cell_type": "code",
   "execution_count": null,
   "metadata": {},
   "outputs": [],
   "source": [
    "sheet.vert_df['x'] = sheet.vert_df['x'] * 5\n",
    "sgeom.update_all(sheet)\n",
    "\n",
    "fig, ax = sheet_view(sheet, mode=\"2D\")\n",
    "fig.set_size_inches(8, 8)"
   ]
  },
  {
   "cell_type": "markdown",
   "metadata": {},
   "source": [
    "> **exercice**\n",
    ">\n",
    "> Rescale the sheet correctly"
   ]
  },
  {
   "cell_type": "markdown",
   "metadata": {},
   "source": [
    "<details><summary><b>Solution →</b></summary>\n",
    "\n",
    "```py\n",
    "sheet.vert_df['x'] = sheet.vert_df['x'] / 5\n",
    "geom.update_all(sheet)\n",
    "```\n",
    "\n",
    "</details>"
   ]
  },
  {
   "cell_type": "code",
   "execution_count": null,
   "metadata": {},
   "outputs": [],
   "source": [
    "# Write the solution here\n"
   ]
  },
  {
   "cell_type": "markdown",
   "metadata": {},
   "source": [
    "> **exercice**\n",
    ">\n",
    "> Change the vertex positions so that the average area is close to 1.0, and update the geometry"
   ]
  },
  {
   "cell_type": "markdown",
   "metadata": {},
   "source": [
    "<details><summary><b>Solution →</b></summary>\n",
    "\n",
    "```py\n",
    "sheet.vert_df[['x', 'y']] /= sheet.face_df.area.mean()\n",
    "geom.update_all(sheet)\n",
    "```\n",
    "\n",
    "</details>"
   ]
  },
  {
   "cell_type": "code",
   "execution_count": null,
   "metadata": {},
   "outputs": [],
   "source": [
    "# Write the solution here\n"
   ]
  },
  {
   "cell_type": "markdown",
   "metadata": {},
   "source": [
    "# Quasi-static models\n",
    "\n",
    "\n",
    "A common way to describe an epithelium is with the **quasistatic approximation**: we assume that at any point in time, without exterior perturbation, the epithelium is at an **energy minimum**. For a given expression of the model's Hamiltonian, we thus search the position of the vertices corresponding to the minimum of energy.\n",
    "\n",
    "## The Farhadifar model\n",
    "\n",
    "A very common formulation for the epithelium mechanical energy was given in [Farhadifar et al. in 2007](https://doi.org/10.1016/j.cub.2007.11.049).\n",
    "\n",
    "The energy is the sum of an area elasticity, a contractility and a line tension:\n",
    "$$\n",
    "E = \\sum_\\alpha \\frac{K_A}{2}(A_\\alpha - A_0)^2 + \\sum_\\alpha \\Gamma P_\\alpha^2 + \\sum_{ij} \\Lambda \\ell_{ij} \n",
    "$$\n",
    "\n",
    "In tyssue, `Model` objects provide functions to compute the energy for a given epithelium,  as well as it's spatial derivatives over the vertices positions, the gradient.\n",
    "\n",
    "\n",
    "The calculus is done with the columns of the dataframes, for exemple, if we set the value 0.12 for the term $\\Lambda$ for all the edges of the epithelium:\n",
    "\n"
   ]
  },
  {
   "cell_type": "code",
   "execution_count": null,
   "metadata": {},
   "outputs": [],
   "source": [
    "sheet.edge_df[\"line_tension\"] = 0.12\n",
    "E_lt = (sheet.edge_df[\"length\"] * sheet.edge_df[\"line_tension\"]).sum()\n",
    "print(\"Line tension energy : \", E_lt)"
   ]
  },
  {
   "cell_type": "markdown",
   "metadata": {},
   "source": [
    "> **exercice**\n",
    ">\n",
    "> Add a \"contractily\" column in `sheet.face_df` with value 0.07\n",
    "> & compute the energy associated with the contractility term above"
   ]
  },
  {
   "cell_type": "markdown",
   "metadata": {},
   "source": [
    "<details><summary><b>Solution →</b></summary>\n",
    "\n",
    "```py\n",
    "sheet.face_df[\"contractility\"] = 0.04\n",
    "E_lt = (sheet.face_df[\"contractility\"] * sheet.face_df[\"perimeter\"]**2).sum()\n",
    "print(\"Contractility energy : \", E_lt)\n",
    "```\n",
    "\n",
    "</details>"
   ]
  },
  {
   "cell_type": "code",
   "execution_count": null,
   "metadata": {},
   "outputs": [],
   "source": [
    "# Write the solution here\n",
    "sheet.face_df[\"contractility\"] = 0.04\n",
    "E_lt = (sheet.face_df[\"contractility\"] * sheet.face_df[\"perimeter\"]**2).sum()\n",
    "print(\"Contractility energy : \", E_lt)"
   ]
  },
  {
   "cell_type": "markdown",
   "metadata": {},
   "source": [
    "This model has been predifined in tyssue as the default `PlanarModel`. We can use it in combination with a `Solver` object to find the energy minimum of our sheet.\n",
    "\n",
    "To add the various columns in the dataframes (as we did above) we use a  **specification dictionnary** with the required parameters."
   ]
  },
  {
   "cell_type": "code",
   "execution_count": null,
   "metadata": {},
   "outputs": [],
   "source": [
    "from tyssue.config.dynamics import quasistatic_plane_spec\n",
    "from tyssue.dynamics.planar_vertex_model import PlanarModel as smodel\n",
    "from tyssue.solvers import QSSolver\n",
    "from pprint import pprint\n",
    "\n",
    "\n",
    "# Update the specs (adds / changes the values in the dataframes' columns)\n",
    "sheet.update_specs(quasistatic_plane_spec())\n",
    "\n",
    "pprint(quasistatic_plane_spec())"
   ]
  },
  {
   "cell_type": "code",
   "execution_count": null,
   "metadata": {},
   "outputs": [],
   "source": [
    "E_t = smodel.compute_energy(sheet)\n",
    "print(\"Total energy: \", E_t)"
   ]
  },
  {
   "cell_type": "markdown",
   "metadata": {},
   "source": [
    "The energy minimum is found with a _gradient descent_ strategy, the vertices are displaced in the direction opposit to the spatial derivative of the energy. Actually, this defines the **force** on the vertices.\n"
   ]
  },
  {
   "cell_type": "code",
   "execution_count": null,
   "metadata": {},
   "outputs": [],
   "source": [
    "from tyssue.draw.plt_draw import plot_forces\n",
    "\n",
    "fig, ax = plot_forces(sheet, sgeom, smodel, ['x', 'y'], 1)\n",
    "\n",
    "fig.set_size_inches(10, 10)\n",
    "ax.set_aspect('equal')"
   ]
  },
  {
   "cell_type": "code",
   "execution_count": null,
   "metadata": {},
   "outputs": [],
   "source": [
    "# Find energy minimum\n",
    "solver = QSSolver()\n",
    "res = solver.find_energy_min(sheet, sgeom, smodel)\n",
    "\n",
    "print(\"Successfull gradient descent? \", res['success'])\n",
    "fig, ax = sheet_view(sheet, ax=ax)\n",
    "\n",
    "fig.set_size_inches(10, 10)\n",
    "ax.set_aspect('equal')\n",
    "\n",
    "fig"
   ]
  },
  {
   "cell_type": "markdown",
   "metadata": {},
   "source": [
    "\n",
    "# Simulating epithelium growth \n",
    "\n",
    "\n",
    "## Cell growth\n",
    "\n",
    "> **exercice**\n",
    ">\n",
    "> How would you simulate a single cell growth?\n",
    "\n",
    "**Hint**: You can use [`loc`](https://pandas.pydata.org/docs/user_guide/indexing.html#selection-by-label) to access an element or a subelement of the dataframes. You can inspect `quasistatic_plane_spec()` to find the relevant columns.\n",
    "\n",
    "<hr/>\n",
    "\n",
    "<details><summary><b>Solution →</b></summary>\n",
    "By increasing the equilibrium area of this cell:\n",
    "\n",
    "```py\n",
    "sheet.face_df.loc[12, \"perefered_area\"] *= 1.5\n",
    "solver.find_energy_min(sheet, sgeom, model)    \n",
    "```\n",
    "</details>"
   ]
  },
  {
   "cell_type": "code",
   "execution_count": null,
   "metadata": {},
   "outputs": [],
   "source": [
    "# Write the solution here\n"
   ]
  },
  {
   "cell_type": "code",
   "execution_count": null,
   "metadata": {},
   "outputs": [],
   "source": [
    "fig, ax = sheet_view(sheet)\n",
    "\n",
    "fig.set_size_inches(10, 10)\n",
    "ax.set_aspect('equal')"
   ]
  },
  {
   "cell_type": "markdown",
   "metadata": {},
   "source": [
    "## Mitosis\n",
    "\n",
    "\n",
    "Mitosis is the last step of cell division, when the septum splits the mother cell in 2. In 2D vertex models, it consists in putting a new edge in the dividing face."
   ]
  },
  {
   "cell_type": "code",
   "execution_count": null,
   "metadata": {},
   "outputs": [],
   "source": [
    "from tyssue.topology.sheet_topology import cell_division\n",
    "\n",
    "# reset prefered_area\n",
    "sheet.face_df.loc[12, \"prefered_area\"] = 1\n",
    "\n",
    "daughter = cell_division(sheet, 12, sgeom)\n",
    "sgeom.update_all(sheet)\n",
    "fig, ax = sheet_view(sheet)\n",
    "\n",
    "fig.set_size_inches(10, 10)\n",
    "ax.set_aspect('equal')"
   ]
  },
  {
   "cell_type": "code",
   "execution_count": null,
   "metadata": {},
   "outputs": [],
   "source": [
    "solver.find_energy_min(sheet, sgeom, smodel)  \n",
    "fig, ax = sheet_view(sheet)\n",
    "\n",
    "fig.set_size_inches(10, 10)\n",
    "ax.set_aspect('equal')"
   ]
  },
  {
   "cell_type": "markdown",
   "metadata": {},
   "source": [
    "## Growth and division\n",
    "\n",
    "\n",
    "As we simulate living tissues, each cell is an _agent_ that can adopt certain _behaviors_. Those depend on biological signals (information) and bio-mechanical regulation.\n",
    "\n",
    "In tyssue, this is modeled by \"atomic\" _actions_ combined in _behavior_ functions through conditionals, managed by an `EventManager` object. The event manager holds a todo lists for the current time step and the next. It goes through the current behavior list, possibliy add \n",
    "\n",
    "\n",
    "> **exercice**\n",
    ">\n",
    "> What are the atomic actions governing cell division?\n",
    "\n",
    "\n",
    "<hr/>\n",
    "\n",
    "<details><summary><b>Solution →</b></summary>\n",
    "\n",
    "![Division flow diagram](illus/division_diag.svg)\n",
    "\n",
    "\n",
    "</details>\n"
   ]
  },
  {
   "cell_type": "markdown",
   "metadata": {},
   "source": [
    "> **exercice**\n",
    ">\n",
    "> Fill the blanks below\n"
   ]
  },
  {
   "cell_type": "code",
   "execution_count": null,
   "metadata": {},
   "outputs": [],
   "source": [
    "from tyssue.behaviors import EventManager\n",
    "from tyssue import History\n",
    "\n",
    "def division(sheet, manager, cell_id=0, crit_area=2.0, growth_rate=0.1):\n",
    "    \"\"\"Defines a division behavior.\n",
    "    \n",
    "    Parameters\n",
    "    ----------\n",
    "    \n",
    "    sheet: a :class:`Sheet` object\n",
    "    cell_id: int\n",
    "        the index of the dividing cell\n",
    "    crit_area: float\n",
    "        the area at which \n",
    "    growth_rate: float\n",
    "        increase in the prefered are per unit time\n",
    "        A_0(t + dt) = A0(t) * (1 + growth_rate * dt)\n",
    "    \"\"\"\n",
    "    dt = manager.dt\n",
    "    \n",
    "    if sheet.face_df.loc[cell_id, \"area\"] > crit_area:\n",
    "        # restore prefered_area\n",
    "        sheet.face_df.locXXXX\n",
    "        # Do division\n",
    "        daughter = XXX\n",
    "        # Update the topology\n",
    "        sheet.reset_index(order=True)\n",
    "        # update geometry\n",
    "        sgeom.XXX\n",
    "        print(f\"cell n°{daughter} is born\")\n",
    "        manager.append(division, cell_id=daughter)\n",
    "    else:\n",
    "        # \n",
    "        XXX *= (1 + dt * growth_rate)\n",
    "    \n",
    "    manager.append(division, cell_id=cell_id)\n",
    "    "
   ]
  },
  {
   "cell_type": "markdown",
   "metadata": {},
   "source": [
    "\n",
    "<details><summary><b>Solution →</b></summary>\n",
    "\n",
    "```py\n",
    "def division(sheet, manager, cell_id=0, crit_area=2.0, growth_rate=0.1):\n",
    "    \"\"\"Defines a division behavior.\n",
    "    \n",
    "    Parameters\n",
    "    ----------\n",
    "    \n",
    "    sheet: a :class:`Sheet` object\n",
    "    cell_id: int\n",
    "        the index of the dividing cell\n",
    "    crit_area: float\n",
    "        the area at which \n",
    "    growth_rate: float\n",
    "        increase in the prefered are per unit time\n",
    "        A_0(t + dt) = A0(t) * (1 + growth_rate * dt)\n",
    "    \"\"\"\n",
    "    dt = manager.dt\n",
    "    \n",
    "    if sheet.face_df.loc[cell_id, \"area\"] > crit_area:\n",
    "        # restore prefered_area\n",
    "        sheet.face_df.loc[cell_id, \"prefered_area\"] = 1.0\n",
    "        # Do division\n",
    "        daughter = cell_division(sheet, cell_id, sgeom)\n",
    "        sgeom.update_all(sheet)\n",
    "        \n",
    "        print(f\"cell n°{daughter} is born\")\n",
    "        manager.append(division, cell_id=daughter)\n",
    "    else:\n",
    "        sheet.face_df.loc[cell_id, \"prefered_area\"] *= (1 + dt * growth_rate)\n",
    "    manager.append(division, cell_id=cell_id)\n",
    "\n",
    "```\n",
    "</details>\n",
    "\n",
    "    "
   ]
  },
  {
   "cell_type": "code",
   "execution_count": null,
   "metadata": {},
   "outputs": [],
   "source": []
  },
  {
   "cell_type": "code",
   "execution_count": null,
   "metadata": {
    "scrolled": true
   },
   "outputs": [],
   "source": [
    "manager = EventManager(\"face\")\n",
    "\n",
    "manager.append(division, cell_id=12)\n",
    "\n",
    "t = 0\n",
    "stop = 30\n",
    "\n",
    "progress = widgets.IntProgress(min=0, max=stop)\n",
    "progress.value = 0\n",
    "display.display(progress)\n",
    "\n",
    "# The History object records all the time steps \n",
    "history = History(sheet)\n",
    "\n",
    "while manager.current and t < stop:\n",
    "    manager.execute(sheet)\n",
    "    t += 1\n",
    "    progress.value = t\n",
    "    sheet.reset_index(order=True)\n",
    "    res = solver.find_energy_min(sheet, sgeom, smodel)\n",
    "    history.record()\n",
    "    manager.update()"
   ]
  },
  {
   "cell_type": "code",
   "execution_count": null,
   "metadata": {},
   "outputs": [],
   "source": [
    "draw_specs = {\n",
    "    \"edge\": {\n",
    "        \"color\": lambda sheet: sheet.edge_df.length\n",
    "    },\n",
    "    \"face\": {\n",
    "        \"visible\": True,\n",
    "        \"color\": lambda sheet: sheet.face_df.area,\n",
    "        \"color_range\": (0, 2)\n",
    "    }\n",
    "}\n",
    "\n",
    "fig, ax = sheet_view(sheet, mode='2D', **draw_specs)\n",
    "fig.set_size_inches(10, 10)\n",
    "ax.set_aspect('equal')\n"
   ]
  },
  {
   "cell_type": "code",
   "execution_count": null,
   "metadata": {},
   "outputs": [],
   "source": [
    "create_gif(history, \"growth.gif\", num_frames=30, margin=5, **draw_specs)\n",
    "display.Image(\"growth.gif\")"
   ]
  },
  {
   "cell_type": "code",
   "execution_count": null,
   "metadata": {},
   "outputs": [],
   "source": [
    "sheet.reset_index(order=True)\n",
    "fig, ax = sheet_view(sheet, mode='2D', **draw_specs)\n"
   ]
  },
  {
   "cell_type": "markdown",
   "metadata": {},
   "source": [
    "### Cell division in a 3D monolayer"
   ]
  },
  {
   "cell_type": "code",
   "execution_count": null,
   "metadata": {},
   "outputs": [],
   "source": [
    "from tyssue import Monolayer\n",
    "from tyssue.geometry.bulk_geometry import ClosedMonolayerGeometry as mgeom\n",
    "from tyssue.dynamics.bulk_model import ClosedMonolayerModel as mmodel\n",
    "from tyssue.draw import highlight_cells\n",
    "from tyssue.io.hdf5 import load_datasets\n",
    "from tyssue.stores import stores_dir \n",
    "from pathlib import Path\n",
    "\n",
    "datasets = load_datasets(Path(stores_dir)/'small_ellipsoid.hf5')\n",
    "\n",
    "monolayer = Monolayer('ellipsoid', datasets)\n",
    "\n",
    "\n",
    "mgeom.update_all(monolayer)\n",
    "\n",
    "mgeom.scale(\n",
    "    monolayer,\n",
    "    monolayer.cell_df.vol.mean()**(-1/3),\n",
    "    monolayer.coords\n",
    ")\n",
    "\n",
    "mgeom.update_all(monolayer)\n",
    "\n",
    "specs = {\n",
    "    \"edge\": {\n",
    "        \"line_tension\": 0.0,\n",
    "        \"is_active\": 1\n",
    "    },\n",
    "    \"face\": {\n",
    "        \"contractility\": 0.0,\n",
    "    },\n",
    "    \"cell\": {\n",
    "        \"prefered_vol\": 1.0,\n",
    "        \"vol_elasticity\": 0.1,\n",
    "        \"prefered_area\": monolayer.cell_df['area'].median()*0.8,\n",
    "        \"area_elasticity\": 0.1,\n",
    "    },\n",
    "    \"settings\": {\n",
    "        'lumen_prefered_vol': monolayer.settings['lumen_vol']*1.2,\n",
    "        'lumen_vol_elasticity': 1e-2\n",
    "    }\n",
    "}\n",
    "\n",
    "monolayer.update_specs(specs, reset=True)\n",
    "monolayer.cell_df['id'] = monolayer.cell_df.index\n",
    "res = solver.find_energy_min(monolayer, mgeom, mmodel)\n",
    "\n"
   ]
  },
  {
   "cell_type": "code",
   "execution_count": null,
   "metadata": {},
   "outputs": [],
   "source": [
    "ipv.clear()\n",
    "fig, mesh = sheet_view(monolayer, mode=\"3D\", coords=['z', 'x', 'y'], **draw_specs)\n",
    "fig\n"
   ]
  },
  {
   "cell_type": "code",
   "execution_count": null,
   "metadata": {},
   "outputs": [],
   "source": [
    "monolayer.face_df['visible'] = monolayer.face_df.segment == \"basal\"\n",
    "\n",
    "ipv.clear()\n",
    "ipv.style.use(\"light\")\n",
    "fig, mesh = sheet_view(monolayer, mode=\"3D\", coords=['z', 'x', 'y'], **draw_specs)\n",
    "fig"
   ]
  },
  {
   "cell_type": "code",
   "execution_count": null,
   "metadata": {},
   "outputs": [],
   "source": [
    "mmodel.labels"
   ]
  },
  {
   "cell_type": "code",
   "execution_count": null,
   "metadata": {},
   "outputs": [],
   "source": [
    "monolayer.cell_df.vol.mean()"
   ]
  },
  {
   "cell_type": "code",
   "execution_count": null,
   "metadata": {},
   "outputs": [],
   "source": [
    "from tyssue.topology.monolayer_topology import cell_division\n",
    "def division(monolayer, manager, cell_id=0, crit_volume=1.2, growth_rate=0.1, dt=1):\n",
    "    \"\"\"Defines a division behavior.\n",
    "\n",
    "    Parameters\n",
    "    ----------\n",
    "\n",
    "    sheet: a :class:`Sheet` object\n",
    "    cell_id: int\n",
    "        the index of the dividing cell\n",
    "    crit_area: float\n",
    "        the area at which \n",
    "    growth_rate: float\n",
    "        increase in the prefered are per unit time\n",
    "        A_0(t + dt) = A0(t) * (1 + growth_rate * dt)\n",
    "    \"\"\"\n",
    "    if monolayer.cell_df.loc[cell_id, \"vol\"] > crit_volume:\n",
    "        \n",
    "        monolayer.face_df.loc[cell_id, \"prefered_vol\"] = 1.0\n",
    "        daughter = cell_division(monolayer, cell_id, orientation=\"apical\")\n",
    "        monolayer.reset_index(order=True)\n",
    "        mgeom.update_all(monolayer)\n",
    "        print(f\"cell n°{daughter} is born\")\n",
    "        \n",
    "        manager.append(division, cell_id=daughter)\n",
    "    else:\n",
    "        monolayer.cell_df.loc[cell_id, \"prefered_vol\"] *= (1 + dt * growth_rate)\n",
    "\n",
    "    manager.append(division, cell_id=cell_id)"
   ]
  },
  {
   "cell_type": "code",
   "execution_count": null,
   "metadata": {
    "scrolled": true
   },
   "outputs": [],
   "source": [
    "# reset face visualisation\n",
    "monolayer.face_df['visible'] = True\n",
    "\n",
    "manager = EventManager(\"cell\")\n",
    "\n",
    "manager.append(division, cell_id=12)\n",
    "\n",
    "t = 0\n",
    "stop = 25\n",
    "\n",
    "progress = widgets.IntProgress(min=0, max=stop)\n",
    "progress.value = 0\n",
    "display.display(progress)\n",
    "\n",
    "# The History object records all the time steps \n",
    "history = History(monolayer)\n",
    "\n",
    "while manager.current and t < stop:\n",
    "    manager.execute(monolayer)\n",
    "    t += 1\n",
    "    progress.value = t\n",
    "    monolayer.reset_index(order=True)\n",
    "    res = solver.find_energy_min(monolayer, mgeom, mmodel)\n",
    "    history.record()\n",
    "    manager.update()"
   ]
  },
  {
   "cell_type": "code",
   "execution_count": null,
   "metadata": {},
   "outputs": [],
   "source": [
    "monolayer.validate()"
   ]
  },
  {
   "cell_type": "code",
   "execution_count": null,
   "metadata": {},
   "outputs": [],
   "source": [
    "\n",
    "ipv.clear()\n",
    "browse_history(history, **draw_specs)"
   ]
  },
  {
   "cell_type": "code",
   "execution_count": null,
   "metadata": {},
   "outputs": [],
   "source": [
    "monolayer.face_df.segment.unique()"
   ]
  },
  {
   "cell_type": "code",
   "execution_count": null,
   "metadata": {},
   "outputs": [],
   "source": [
    "monolayer.face_df['visible'] = monolayer.face_df.segment == \"sagittal\"\n",
    "\n",
    "ipv.clear()\n",
    "ipv.style.use(\"dark\")\n",
    "fig, mesh = sheet_view(monolayer, mode=\"3D\", **draw_specs)\n",
    "fig"
   ]
  },
  {
   "cell_type": "markdown",
   "metadata": {},
   "source": [
    "# Cell rearangements\n",
    "\n",
    "## Topological changes in 2D: type 1 transitions\n",
    "\n",
    "\n",
    "We saw with multiple cell division that deformation accumulate in our simulated epithelium in a non physiological (to say the least) fashion.\n",
    "\n",
    "This is because we lacked a mechanism allowing cells to rearange in the tissue. This reorganisation takes place through the process of type 1 transitions.\n",
    "\n",
    "![Type 1 transition](illus/t1_transition.svg)\n",
    "\n",
    "\n",
    "\n"
   ]
  },
  {
   "cell_type": "markdown",
   "metadata": {},
   "source": [
    "> **exercice**\n",
    "> Display an histogramm of the edge lengths in the sheet and the monolayer\n",
    "\n",
    "<details><summary><b>Solution →</b></summary>\n",
    "\n",
    "```python\n",
    "fig, ax = plt.subplots()\n",
    "_ = ax.hist(sheet.edge_df.length, range=(0, 2), bins=32, density=True)\n",
    "_ = ax.hist(monolayer.edge_df.length, range=(0, 2), bins=32, rwidth=0.5, density=True)  \n",
    "\n",
    "```\n",
    "\n",
    "</details>"
   ]
  },
  {
   "cell_type": "code",
   "execution_count": null,
   "metadata": {},
   "outputs": [],
   "source": [
    "# Write the solution here\n"
   ]
  },
  {
   "cell_type": "markdown",
   "metadata": {},
   "source": [
    "> **exercice**\n",
    "> How many edges in the sheet measure less than 0.01?\n",
    "\n",
    "<details><summary><b>Solution →</b></summary>\n",
    "\n",
    "```python\n",
    "print((sheet.edge_df.length < 0.01).sum())\n",
    "```\n",
    "\n",
    "</details>"
   ]
  },
  {
   "cell_type": "code",
   "execution_count": null,
   "metadata": {},
   "outputs": [],
   "source": [
    "# write your solution"
   ]
  },
  {
   "cell_type": "code",
   "execution_count": null,
   "metadata": {},
   "outputs": [],
   "source": [
    "from tyssue.topology.sheet_topology import type1_transition"
   ]
  },
  {
   "cell_type": "markdown",
   "metadata": {},
   "source": [
    "In tyssue, type 1 transition is a function that takes a sheet and an edge index as argument:\n",
    "\n",
    "```python\n",
    "type1_transition(sheet, shortest, remove_tri_faces=False)\n",
    "```"
   ]
  },
  {
   "cell_type": "code",
   "execution_count": null,
   "metadata": {},
   "outputs": [],
   "source": [
    "while (sheet.edge_df.length < 0.01).sum():\n",
    "    shortest = sheet.edge_df.length.idxmin()\n",
    "    type1_transition(sheet, shortest, remove_tri_faces=False)\n",
    "    sgeom.update_all(sheet)\n",
    "    solver.find_energy_min(sheet, sgeom, smodel)\n",
    "    \n",
    "\n",
    "fig, ax = sheet_view(sheet)"
   ]
  },
  {
   "cell_type": "markdown",
   "metadata": {},
   "source": [
    "(Actually tyssue allows to decompose the type 1 transition in first a 4-way vertex formation followed by a detachement)"
   ]
  },
  {
   "cell_type": "markdown",
   "metadata": {},
   "source": [
    "## Rearangements in 3D\n",
    "\n",
    "\n",
    "![rearangement in 3D](illus/IH_transition.png)"
   ]
  },
  {
   "cell_type": "markdown",
   "metadata": {},
   "source": [
    "# Modeling cell migration\n",
    "\n",
    "\n",
    "\n",
    "We want to model the movement of a single cell accross an epithelium. We will use a model developed by the team of Lisa Manning showing transition from liquid to jamed epithelium [Mapeng Bi et al.](https://arxiv.org/abs/1409.0593v4).\n",
    "\n",
    "The model reads as:\n",
    "\n",
    "$$\\epsilon = \\sum_\\alpha \\left[ (a_\\alpha - 1)^2 + \\frac{(p_\\alpha - p_0)^2}{r}\\right]$$\n",
    "\n",
    "Rearangements are discribed [Finegan et al.](https://doi.org/10.1101/704932)\n",
    "\n"
   ]
  },
  {
   "cell_type": "markdown",
   "metadata": {},
   "source": [
    "<hr/>\n",
    "\n",
    "\n",
    "## Defining new interaction terms \n",
    "\n",
    "As we have seen, models are defined as a sum of terms (area elasticity, line tension, etc.). In tyssue each of those terms are defined by an `effector` object. The monolayer model is defined by a list of five **effectors**:"
   ]
  },
  {
   "cell_type": "code",
   "execution_count": null,
   "metadata": {},
   "outputs": [],
   "source": [
    "print('Monlayer model effectors :', end='\\n\\t')\n",
    "print(*mmodel.labels, sep=\"\\n\\t\")"
   ]
  },
  {
   "cell_type": "markdown",
   "metadata": {},
   "source": [
    "\n",
    "An effector designates a dynamical term in the epithelium governing equation. For quasistatic models, we need to provide  a method to compute the energy associated with this effector, and the corresponding gradient. \n",
    "\n",
    "### The line tension effector\n",
    "\n",
    "For example, we can consider a line tension effector. The energy is $E_t = \\sum_{ij} \\Lambda\\ell_{ij}$ where the sum is over all the edges. In order to compute the gradient over the positions, we need to compute $\\nabla_i\\,\\Lambda\\ell_{ij}$ (gradient at the source) and $\\nabla_j\\,\\Lambda\\ell_{ij}$ (gradient at the target).\n",
    "\n",
    "We then have 2$N_e$ terms that can be factored for exemple for coordinate $x$ of vertex $i$:\n",
    "\n",
    "$$\n",
    "\\frac{\\partial E_t}{\\partial x_i}\n",
    "= \\Lambda\\left(\\sum_k \\frac{\\partial}{\\partial x_i} \\ell_{ik} + \\sum_m \\frac{\\partial}{\\partial x_i} \\ell_{mi}\\right)\n",
    "= \\Lambda\\left(\\sum_k \\frac{x_i}{\\ell_{ik}}  - \\sum_m \\frac{x_i}{\\ell_{mi}}\\right)\n",
    "$$\n",
    "\n",
    "(notice the order of the indices $i$, $k$ and $m$)\n",
    "\n",
    "Where $\\sum_k$ is are over all the edges which vertex $i$ is a source, and $\\sum_m$ over all the edges of which vertex i is a target. \n",
    "\n",
    "\n",
    "Here is the definition of the line tension effector:\n",
    "```python\n",
    "class LineTension(AbstractEffector):\n",
    "\n",
    "    dimensions = units.line_tension\n",
    "    magnitude = \"line_tension\"\n",
    "    label = \"Line tension\"\n",
    "    element = \"edge\"\n",
    "    specs = {\"edge\": {\"is_active\": 1, \"line_tension\": 1e-2}}\n",
    "\n",
    "    spatial_ref = \"mean_length\", units.length\n",
    "\n",
    "    @staticmethod\n",
    "    def energy(eptm):\n",
    "        return eptm.edge_df.eval(\n",
    "            \"line_tension * is_active * length / 2\"\n",
    "        )  # accounts for half edges\n",
    "\n",
    "    @staticmethod\n",
    "    def gradient(eptm):\n",
    "        grad_srce = -eptm.edge_df[eptm.ucoords] * to_nd(\n",
    "            eptm.edge_df.eval(\"line_tension * is_active/2\"), len(eptm.coords)\n",
    "        )\n",
    "        grad_srce.columns = [\"g\" + u for u in eptm.coords]\n",
    "        grad_trgt = -grad_srce\n",
    "        return grad_srce, grad_trgt\n",
    "```\n",
    "\n",
    "\n",
    "#### Unpacking the gradient expression:\n",
    "\n",
    "For the line tension, the gradient from the half-edge of which the vertex is a source has a norm equal to the `line_tension` column and is parallel and in opposite direction to the unit vector of the half-edge, `sheet.edge_df[[\"ux\", \"uy\", \"uz\"]]`. The gradient from the half_edge of witch the vertex is the target is in the same direction of the unit vector.\n"
   ]
  },
  {
   "cell_type": "code",
   "execution_count": null,
   "metadata": {},
   "outputs": [],
   "source": [
    "from tyssue.solvers.viscous import EulerSolver\n",
    "from tyssue.draw import sheet_view\n",
    "\n",
    "from tyssue.dynamics import model_factory, effectors\n",
    "\n",
    "from tyssue.behaviors import EventManager\n",
    "from tyssue.behaviors.sheet import basic_events"
   ]
  },
  {
   "cell_type": "code",
   "execution_count": null,
   "metadata": {},
   "outputs": [],
   "source": [
    "# create 2d patch of cell\n",
    "sheet = Sheet.planar_sheet_2d('jam', 15, 15, 1, 1, noise=0.2)\n",
    "sgeom.update_all(sheet)\n",
    "\n",
    "sheet.remove(sheet.cut_out([[0, 8], [0, 8]]), trim_borders=True)\n",
    "sheet.sanitize()\n",
    "sgeom.scale(sheet, 1/np.sqrt(sheet.face_df.area.mean()), ['x', 'y'])\n",
    "sgeom.update_all(sheet)\n",
    "sheet.reset_index()\n",
    "sheet.reset_topo()\n",
    "fig, ax = sheet_view(sheet, mode=\"quick\")"
   ]
  },
  {
   "cell_type": "markdown",
   "metadata": {},
   "source": [
    "### Quasistatic gradient descent\n"
   ]
  },
  {
   "cell_type": "code",
   "execution_count": null,
   "metadata": {},
   "outputs": [],
   "source": [
    "# Here we define our custom mode with 3 terms\n",
    "\n",
    "model = model_factory(\n",
    "    [effectors.PerimeterElasticity,\n",
    "     effectors.LineTension,\n",
    "     effectors.FaceAreaElasticity])\n",
    "\n",
    "\n",
    "# setting up values for the whole epithelium\n",
    "model_specs = {\n",
    "    'face': {\n",
    "        'area_elasticity': 1.,\n",
    "        'prefered_area': 1.,\n",
    "        'perimeter_elasticity': 0.05, # 1/2r in the master equation\n",
    "        'prefered_perimeter': 3.81,\n",
    "        \"id\": sheet.face_df.index\n",
    "        },\n",
    "    \n",
    "    'vert': {\n",
    "        \"viscosity\": 1.0\n",
    "        },\n",
    "    'edge': {\n",
    "        \"line_tension\": 0.0,\n",
    "        'is_active': 1\n",
    "    },\n",
    "    'settings': {\n",
    "        'temperature': 2e-1, # See bellow\n",
    "        \"p_4\": 10.0, # From Finegann et al.\n",
    "        \"p_5p\": 1.0,\n",
    "        \"threshold_length\": 2e-2\n",
    "    }\n",
    "}\n",
    "\n",
    "sheet.update_specs(model_specs, reset=True)\n",
    "\n",
    "res = QSSolver().find_energy_min(sheet, sgeom, model)\n",
    "\n",
    "print(res.message)"
   ]
  },
  {
   "cell_type": "code",
   "execution_count": null,
   "metadata": {},
   "outputs": [],
   "source": [
    "fig, ax = sheet_view(sheet, mode=\"quick\")"
   ]
  },
  {
   "cell_type": "code",
   "execution_count": null,
   "metadata": {},
   "outputs": [],
   "source": [
    "# Save the original sheet in a backup objet\n",
    "bck = sheet.copy()"
   ]
  },
  {
   "cell_type": "markdown",
   "metadata": {},
   "source": [
    "## Define a Brownian motion effector\n",
    "\n",
    "\n"
   ]
  },
  {
   "cell_type": "code",
   "execution_count": null,
   "metadata": {},
   "outputs": [],
   "source": [
    "from tyssue.dynamics import effectors, units\n",
    "from tyssue.utils import to_nd\n",
    "\n",
    "# Adding some gigling\n",
    "class BrownianMotion(effectors.AbstractEffector):\n",
    "    \n",
    "    label = 'Brownian Motion'\n",
    "    element = 'vert'\n",
    "    specs = {\"settings\": {\"temperature\": 1e-3}}\n",
    "    \n",
    "    def energy(eptm):\n",
    "        T = eptm.settings['temperature']\n",
    "        return np.ones(eptm.Nv) * T / eptm.Nv\n",
    "    \n",
    "    def gradient(eptm):\n",
    "        T = eptm.settings['temperature']\n",
    "        scale = T/eptm.edge_df.length.mean()\n",
    "        \n",
    "        grad = pd.DataFrame(\n",
    "            data=np.random.normal(0, scale=scale, size=(eptm.Nv, eptm.dim)),\n",
    "            index=eptm.vert_df.index,\n",
    "            columns=['g'+c for c in eptm.coords]\n",
    "        )\n",
    "        return grad, None"
   ]
  },
  {
   "cell_type": "markdown",
   "metadata": {},
   "source": [
    "## Coarse tracking model"
   ]
  },
  {
   "cell_type": "code",
   "execution_count": null,
   "metadata": {},
   "outputs": [],
   "source": [
    "def tract(eptm, face, pull_axis, value, pull_column='line_tension', face_id=None):\n",
    "    \"\"\"Modeling face traction as shrinking apical junctions on the neighouring cells,\n",
    "    \n",
    "    As if pseudopods where pulling between the cells\n",
    "    \n",
    "    \n",
    "    \"\"\"\n",
    "    \n",
    "    \n",
    "    pull_axis = np.asarray(pull_axis)\n",
    "    edges = eptm.edge_df.query(f'face == {face}')\n",
    "    verts = edges['srce'].values\n",
    "    r_ai = edges[[\"r\"+c for c in eptm.coords]].values\n",
    "    proj = (r_ai * pull_axis[None, :]).sum(axis=1)\n",
    "    \n",
    "    pulling_vert = verts[np.argmax(proj)]\n",
    "    \n",
    "    v_edges = eptm.edge_df.query(\n",
    "        f\"(srce == {pulling_vert}) & (face != {face})\"\n",
    "    )\n",
    "    pulling_edges = v_edges[~v_edges['trgt'].isin(verts)].index\n",
    "    eptm.edge_df[pull_column] = 0\n",
    "\n",
    "    if pulling_edges.size:\n",
    "        eptm.edge_df.loc[pulling_edges, pull_column] = value\n",
    "        \n",
    "        \n",
    "default_traction_spec = {\n",
    "    \"face\": -1,\n",
    "    \"face_id\": -1,\n",
    "    \"pull_axis\": [0.2, 0.8],\n",
    "    \"value\": 4,\n",
    "    \"pull_column\": \"line_tension\"\n",
    "}\n",
    "\n",
    "\n",
    "from tyssue.utils.decorators import face_lookup\n",
    "\n",
    "@face_lookup\n",
    "def traction(sheet, manager, **kwargs):\n",
    "    \n",
    "    traction_spec = default_traction_spec\n",
    "    traction_spec.update(**kwargs)\n",
    "    pulling = tract(sheet, **traction_spec)\n",
    "    \n",
    "    manager.append(traction, **traction_spec)"
   ]
  },
  {
   "cell_type": "markdown",
   "metadata": {},
   "source": [
    "## Running the simulation"
   ]
  },
  {
   "cell_type": "code",
   "execution_count": null,
   "metadata": {},
   "outputs": [],
   "source": [
    "\n",
    "pulled = 2\n",
    "\n",
    "model = model_factory(\n",
    "    [effectors.PerimeterElasticity,\n",
    "     effectors.LineTension,\n",
    "     effectors.FaceAreaElasticity,\n",
    "     BrownianMotion\n",
    "    ])\n",
    "\n",
    "# Euler solver + manager\n",
    "\n",
    "# This allows to auomaticaly solve topology changes\n",
    "\n",
    "manager = EventManager(\"face\", )\n",
    "manager.append(basic_events.reconnect)\n",
    "manager.append(traction, face_id=pulled)\n",
    "\n",
    "# Implicit Euler solver\n"
   ]
  },
  {
   "cell_type": "markdown",
   "metadata": {},
   "source": [
    "### Implicit Euler solver\n",
    "\n",
    "Force is the oposite of the gradient:\n",
    "\n",
    "$$\\mathbf{F} = -\\mathbf{\\nabla} E$$\n",
    "\n",
    "The fundamental principle of dynamics says (in our inertia-less world):\n",
    "\n",
    "$$\\sum \\mathbf{F} = 0$$\n",
    "\n",
    "\n",
    "We can approximate the movement of the vertices as movement through an overdamping viscous medium. The viscous drag is then $F_d = - \\eta \\mathbf{v}$, where v is the speed of the vertex. So our expression above becomes:\n",
    "\n",
    "$$\\eta \\mathbf{v} = \\sum \\mathbf{F}$$\n",
    "\n",
    "(Now the sum is over all the _other_ force).\n",
    "\n",
    "We can solve this system in the simplest way possible by a forward Euler method:\n",
    "\n",
    "\\begin{eqnarray}\n",
    "\\eta \\mathbf{v} &=& \\sum \\mathbf{F}\\\\\n",
    "\\eta \\frac{d}{dt}\\mathbf{r} &=& \\sum \\mathbf{F}\\\\\n",
    "\\mathbf{r}(t + dt) &=& \\mathbf{r}(t) + dt \\, \\frac{1}{\\eta}\\sum \\mathbf{F}  \\\\\n",
    "\\end{eqnarray}\n",
    "\n",
    "\n",
    "As we already know how to compute the model's gradient, implementing an Euler solver is not too complicated, and we can reuse our already existing model.\n"
   ]
  },
  {
   "cell_type": "code",
   "execution_count": null,
   "metadata": {},
   "outputs": [],
   "source": [
    "\n",
    "solver = EulerSolver(\n",
    "    sheet,\n",
    "    sgeom,\n",
    "    model,\n",
    "    manager=manager,\n",
    "    bounds=(\n",
    "        -sheet.edge_df.length.median()/10,\n",
    "        sheet.edge_df.length.median()/10\n",
    "    )\n",
    ")\n",
    "manager.update()\n",
    "\n",
    "\n",
    "sheet.face_df['prefered_perimeter'] = 3.8"
   ]
  },
  {
   "cell_type": "code",
   "execution_count": null,
   "metadata": {},
   "outputs": [],
   "source": [
    "solver.solve(tf=100.0, dt=0.1)\n",
    "\n",
    "highlight_faces(sheet.face_df, [pulled,], reset_visible=True)\n",
    "\n",
    "fig, ax = sheet_view(\n",
    "    sheet,\n",
    "    mode=\"2D\",\n",
    "    face={\"visible\": True},\n",
    "    edge={\"head_width\": 0.0, \"color\": sheet.edge_df[\"line_tension\"]},\n",
    "    vert={\"visible\": False}\n",
    ")\n",
    "fig.set_size_inches(6, 6)"
   ]
  },
  {
   "cell_type": "markdown",
   "metadata": {},
   "source": [
    "**Note** It is not trivial to use existing solver (from e.g. `scipy.integrate.ode`) because the **structure of the system of equations changes** during the course of the simulation!"
   ]
  },
  {
   "cell_type": "code",
   "execution_count": null,
   "metadata": {},
   "outputs": [],
   "source": [
    "create_gif(solver.history, \"migration.gif\", num_frames=60, face={\"visible\": True})"
   ]
  },
  {
   "cell_type": "code",
   "execution_count": null,
   "metadata": {},
   "outputs": [],
   "source": [
    "display.Image(\"migration.gif\")"
   ]
  },
  {
   "cell_type": "markdown",
   "metadata": {},
   "source": [
    "> **exercice**\n",
    ">\n",
    "> What is needed to make a paper out of that first experiment? \n",
    "> Discuss a paramter exploration plan\n",
    ">\n",
    "> Can we get back to physics to anticipate pertinent ranges for the parameters?\n",
    "> \n",
    "> What relevant biology experiment would you run?\n"
   ]
  },
  {
   "cell_type": "markdown",
   "metadata": {},
   "source": [
    "#### Using `history`\n",
    "\n",
    "We can use the `History` object to look at what happened in the course of the simulation"
   ]
  },
  {
   "cell_type": "code",
   "execution_count": null,
   "metadata": {},
   "outputs": [],
   "source": [
    "\n",
    "traj = solver.history.face_h.query('id == 2')[['time', 'x', 'y']]\n",
    "\n",
    "fig, ax = sheet_view(sheet)\n",
    "ax.scatter(traj.x, traj.y, c=traj.time, alpha=0.5)\n"
   ]
  },
  {
   "cell_type": "code",
   "execution_count": null,
   "metadata": {},
   "outputs": [],
   "source": [
    "fig, ax = plt.subplots()\n",
    "\n",
    "ax.plot(traj.time, traj.y, alpha=0.5)"
   ]
  },
  {
   "cell_type": "code",
   "execution_count": null,
   "metadata": {},
   "outputs": [],
   "source": []
  }
 ],
 "metadata": {
  "celltoolbar": "Aucun(e)",
  "kernelspec": {
   "display_name": "Python 3",
   "language": "python",
   "name": "python3"
  },
  "language_info": {
   "codemirror_mode": {
    "name": "ipython",
    "version": 3
   },
   "file_extension": ".py",
   "mimetype": "text/x-python",
   "name": "python",
   "nbconvert_exporter": "python",
   "pygments_lexer": "ipython3",
   "version": "3.9.1"
  }
 },
 "nbformat": 4,
 "nbformat_minor": 4
}
